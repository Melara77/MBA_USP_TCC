{
 "cells": [
  {
   "cell_type": "markdown",
   "id": "68338919",
   "metadata": {},
   "source": [
    "## TCC MBA USP EsalQ - Data Science Analytics\n",
    "#### (Maicon C. Melara - Turma 2.1.2 - 2023)"
   ]
  },
  {
   "cell_type": "code",
   "execution_count": null,
   "id": "fcbb6596",
   "metadata": {},
   "outputs": [],
   "source": [
    "#Importando as bibliotecas utilizadas\n",
    "import json\n",
    "import pandas as pd\n",
    "import numpy as np \n",
    "import datetime \n",
    "from urllib.request import urlopen, Request\n",
    "\n",
    "\n",
    "# Definindo as variáveis da url p/ efetivação da busca\n",
    "urlBase = 'http://www.webmotors.com.br/api/'\n",
    "headers = {'User-Agent': 'Mozilla/5.0 (Macintosh; Intel Mac OS X 10_15_5) AppleWebKit/537.36 (KHTML, like Gecko) Chrome/83.0.4103.106 Safari/537.36'}\n",
    "\n",
    "print('Obtendo os dados, aguarde!')\n",
    "\n",
    "# Extraindo os dados\n",
    "data = [];\n",
    "Specs = [];\n",
    " \n",
    "#Caso necessário alterar o range para buscar a quantidades de paginas desejada. Exemplo Pagina 1 à 100 diretamente ou por intervalor ex: 1 a 10, 11 a 20...etc\n",
    "for i in range(91, 100):\n",
    "\n",
    "    url = urlBase + 'search/bike?url=https://www.webmotors.com.br/motos%2Fsp%3Festadocidade%3DS%25C3%25A3o%2520Paulo%26tipoveiculo%3Dmotos&actualPage='+str(i)\n",
    "\n",
    "    req = Request(url, headers=headers)\n",
    "\n",
    "    temp = json.load(urlopen(req))\n",
    "\n",
    "    data += temp[\"SearchResults\"]\n",
    "\n",
    "# Salvando os dados extraídos em arquivo formato json\n",
    "with open('C:/Users/maicon.melara/Documents/Python/data/data-bikes.json', 'w', encoding='utf-8') as f:\n",
    "   json.dump(data, f, ensure_ascii=False, indent=4)\n",
    "\n",
    "\n"
   ]
  }
 ],
 "metadata": {
  "kernelspec": {
   "display_name": "Python 3 (ipykernel)",
   "language": "python",
   "name": "python3"
  },
  "language_info": {
   "codemirror_mode": {
    "name": "ipython",
    "version": 3
   },
   "file_extension": ".py",
   "mimetype": "text/x-python",
   "name": "python",
   "nbconvert_exporter": "python",
   "pygments_lexer": "ipython3",
   "version": "3.10.9"
  }
 },
 "nbformat": 4,
 "nbformat_minor": 5
}
