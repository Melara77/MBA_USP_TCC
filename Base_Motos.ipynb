{
 "cells": [
  {
   "cell_type": "markdown",
   "id": "eeed4e08",
   "metadata": {},
   "source": [
    "TCC MBA USP EsalQ - Data Science Analytics – 2023 - Maicon Melara"
   ]
  },
  {
   "cell_type": "markdown",
   "id": "3bb29c79",
   "metadata": {},
   "source": [
    "Importando Bibliotecas"
   ]
  },
  {
   "cell_type": "code",
   "execution_count": null,
   "id": "7dc5c7c8",
   "metadata": {},
   "outputs": [],
   "source": [
    "# pip install -U scikit-learnimport json\n",
    "import pandas as pd # lib pandas\n",
    "import numpy as np # lib numpy\n",
    "import datetime # lib datetime\n",
    "\n",
    "import matplotlib.pyplot as plt # lib para utilização dos gráficos\n",
    "import seaborn as sns # lib para exibir dados estátisticos\n",
    "\n",
    "# import numpy as np from scipy import stats\n",
    "# stats.mode(np.ones(3))[0]\n",
    "\n",
    "\n",
    "# Necessário para visualização automática dos gráficos no Jupyter\n",
    "%matplotlib inline\n",
    "\n",
    "from pathlib import Path\n",
    "from pandas import json_normalize # package for flattening json in pandas df\n",
    "from scipy import stats\n",
    "\n",
    "# lib sklearn\n",
    "from sklearn.model_selection import train_test_split # lib para definir os dados de treino e de teste\n",
    "from sklearn.neighbors import KNeighborsClassifier # lib classe KNeighborsClassifier - Classificação \n",
    "from sklearn.metrics import accuracy_score, classification_report, confusion_matrix, roc_auc_score,roc_curve\n",
    "from sklearn import preprocessing # Import LabelEncoder\n",
    "from sklearn.model_selection import GridSearchCV\n",
    "from sklearn.ensemble import RandomForestClassifier # lib classe RandomForestClassifier - Classificação \n",
    "# from yellowbrick.classifier import ClassificationReport"
   ]
  },
  {
   "cell_type": "code",
   "execution_count": null,
   "id": "ac8a708e",
   "metadata": {},
   "outputs": [],
   "source": [
    "import json"
   ]
  },
  {
   "cell_type": "markdown",
   "id": "d53c27a4",
   "metadata": {},
   "source": [
    "Carregando Base de Dados \"data-bikes.json\""
   ]
  },
  {
   "cell_type": "code",
   "execution_count": null,
   "id": "a24336ba",
   "metadata": {},
   "outputs": [],
   "source": [
    "p = Path(r'C:\\Users\\maicon.melara\\Documents\\Python\\data\\Bases\\data-bikes.json')\n",
    "with p.open('r', encoding='utf-8') as f:\n",
    "    data = json.loads(f.read())\n",
    "\n",
    "df_bikes = json_normalize(data) \n",
    "\n",
    "df_bikes.info()"
   ]
  },
  {
   "cell_type": "markdown",
   "id": "da15e117",
   "metadata": {},
   "source": [
    "Carregando Base de Dados \"data-bikes-fipe.json\""
   ]
  },
  {
   "cell_type": "code",
   "execution_count": null,
   "id": "326f91dd",
   "metadata": {},
   "outputs": [],
   "source": [
    "p = Path(r'C:\\Users\\maicon.melara\\Documents\\Python\\data\\Bases\\data-bikes-fipe.json')\n",
    "with p.open('r', encoding='utf-8') as f:\n",
    "    data = json.loads(f.read())\n",
    "                      \n",
    "df_bikes_fipe = json_normalize(data)  \n",
    "\n",
    "df_bikes_fipe.info()"
   ]
  },
  {
   "cell_type": "markdown",
   "id": "5e801b2c",
   "metadata": {},
   "source": [
    "Unindo as bases de dados \"data-bikes\" e \"data-bikes-fipe\""
   ]
  },
  {
   "cell_type": "code",
   "execution_count": null,
   "id": "fa46520f",
   "metadata": {},
   "outputs": [],
   "source": [
    "df_bikes = df_bikes.join(df_bikes_fipe.set_index('UniqueId')[['Fipe']], on='UniqueId')"
   ]
  },
  {
   "cell_type": "markdown",
   "id": "ed4fa8ff",
   "metadata": {},
   "source": [
    "Edição de alguns campos da Base - Deletando"
   ]
  },
  {
   "cell_type": "code",
   "execution_count": null,
   "id": "32d80f5b",
   "metadata": {},
   "outputs": [],
   "source": [
    "del df_bikes['Seller.Id'] \n",
    "del df_bikes['Seller.SellerType'] \n",
    "del df_bikes['Seller.AdType.id']\n",
    "del df_bikes['Seller.AdType.Value'] \n",
    "del df_bikes['Seller.CarDelivery'] \n",
    "del df_bikes['Seller.TrocaComTroco']\n",
    "del df_bikes['Seller.ExceededPlan'] \n",
    "del df_bikes['Seller.BudgetInvestimento'] \n",
    "del df_bikes['Seller.DealerScore'] \n",
    "del df_bikes['Seller.City'] \n",
    "del df_bikes['Seller.State'] \n",
    "del df_bikes['Seller.FantasyName']  "
   ]
  },
  {
   "cell_type": "code",
   "execution_count": null,
   "id": "4c2f3c04",
   "metadata": {},
   "outputs": [],
   "source": [
    "del df_bikes['Specification.Model.id'] \n",
    "del df_bikes['Specification.Make.id'] \n",
    "del df_bikes['Specification.Color.IdPrimary']\n",
    "del df_bikes['Specification.VehicleAttributes'] \n",
    "del df_bikes['Specification.YearFabrication']\n",
    "del df_bikes['Specification.BodyType'] \n",
    "del df_bikes['Specification.Title']   \n",
    "del df_bikes['Specification.CubicCentimeter']     \n",
    "del df_bikes['Specification.Engine.Id']           \n",
    "del df_bikes['Specification.Engine.Value']       \n",
    "del df_bikes['Specification.Break.Id']            \n",
    "del df_bikes['Specification.Break.Value']         \n",
    "del df_bikes['Specification.Charge.Id']          \n",
    "del df_bikes['Specification.Charge.Value']     \n",
    "del df_bikes['Specification.Cooling.Id']        \n",
    "del df_bikes['Specification.Cooling.Value']      \n",
    "del df_bikes['Specification.Shift.Id']         \n",
    "del df_bikes['Specification.Shift.Value']      \n",
    "del df_bikes['Specification.Starter.Id']         \n",
    "del df_bikes['Specification.Starter.Value']            \n",
    "del df_bikes['Specification.Color.Secundary']   \n",
    "del df_bikes['Specification.Color.IdSecundary']\n",
    "del df_bikes['Prices.SearchPrice']"
   ]
  },
  {
   "cell_type": "markdown",
   "id": "abf43531",
   "metadata": {},
   "source": [
    "Renomeando alguns campos - Rename"
   ]
  },
  {
   "cell_type": "code",
   "execution_count": null,
   "id": "aefa8bfd",
   "metadata": {},
   "outputs": [],
   "source": [
    "df_bikes.rename({'Specification.Make.Value': 'Make',\n",
    "                'Specification.Model.Value': 'Model',\n",
    "              #  'Specification.Version.Value': 'Version',\n",
    "                'Specification.YearModel': 'YearModel',\n",
    "                'Specification.Odometer': 'Odometer',\n",
    "              #  'Specification.Armored': 'Armored',\n",
    "                'Prices.Price': 'Price',\n",
    "                'Specification.Color.Primary': 'Color',\n",
    "                               }, axis=1, inplace=True)"
   ]
  },
  {
   "cell_type": "code",
   "execution_count": null,
   "id": "a523c169",
   "metadata": {},
   "outputs": [],
   "source": [
    "df_bikes.rename({'Seller.OnlyOwner': 'OnlyOwner',}, axis=1, inplace=True) "
   ]
  },
  {
   "cell_type": "markdown",
   "id": "e01300f5",
   "metadata": {},
   "source": [
    "Convertendo alguns DTypes - Tipos de Dados"
   ]
  },
  {
   "cell_type": "code",
   "execution_count": 45,
   "id": "b21355d6",
   "metadata": {},
   "outputs": [],
   "source": [
    "df_bikes['YearModel'] = df_bikes['YearModel'].astype('int64')\n",
    "df_bikes['Make'] = df_bikes['Make'].astype('string')\n",
    "df_bikes['Model'] = df_bikes['Model'].astype('string') "
   ]
  },
  {
   "cell_type": "markdown",
   "id": "356ce125",
   "metadata": {},
   "source": [
    "Verifica se existe algum valor nulo após o tratamento dos dados"
   ]
  },
  {
   "cell_type": "code",
   "execution_count": 55,
   "id": "e1c77b30",
   "metadata": {},
   "outputs": [
    {
     "data": {
      "text/plain": [
       "UniqueId     0\n",
       "Licensed     0\n",
       "IPVApaid     0\n",
       "Warranty     0\n",
       "Make         0\n",
       "Model        0\n",
       "YearModel    0\n",
       "Odometer     0\n",
       "Color        0\n",
       "OnlyOwner    0\n",
       "Price        0\n",
       "GoodDeal     0\n",
       "Fipe         0\n",
       "dtype: int64"
      ]
     },
     "execution_count": 55,
     "metadata": {},
     "output_type": "execute_result"
    }
   ],
   "source": [
    "df_bikes.isnull().sum()"
   ]
  },
  {
   "cell_type": "markdown",
   "id": "55889168",
   "metadata": {},
   "source": [
    "Exibe a dimensão do DataFrame - linhas x colunas"
   ]
  },
  {
   "cell_type": "code",
   "execution_count": 57,
   "id": "6ef30187",
   "metadata": {},
   "outputs": [
    {
     "name": "stdout",
     "output_type": "stream",
     "text": [
      "<class 'pandas.core.frame.DataFrame'>\n",
      "RangeIndex: 504 entries, 0 to 503\n",
      "Data columns (total 13 columns):\n",
      " #   Column     Non-Null Count  Dtype  \n",
      "---  ------     --------------  -----  \n",
      " 0   UniqueId   504 non-null    int64  \n",
      " 1   Licensed   504 non-null    bool   \n",
      " 2   IPVApaid   504 non-null    bool   \n",
      " 3   Warranty   504 non-null    bool   \n",
      " 4   Make       504 non-null    string \n",
      " 5   Model      504 non-null    string \n",
      " 6   YearModel  504 non-null    int64  \n",
      " 7   Odometer   504 non-null    float64\n",
      " 8   Color      504 non-null    object \n",
      " 9   OnlyOwner  504 non-null    object \n",
      " 10  Price      504 non-null    float64\n",
      " 11  GoodDeal   504 non-null    object \n",
      " 12  Fipe       504 non-null    object \n",
      "dtypes: bool(3), float64(2), int64(2), object(4), string(2)\n",
      "memory usage: 41.0+ KB\n"
     ]
    }
   ],
   "source": [
    "df_bikes.info()"
   ]
  },
  {
   "cell_type": "markdown",
   "id": "ff85763c",
   "metadata": {},
   "source": [
    "Exibe a dimensão do DataFrame - Qtd de linhas x colunas"
   ]
  },
  {
   "cell_type": "code",
   "execution_count": 59,
   "id": "a7f45d18",
   "metadata": {},
   "outputs": [
    {
     "data": {
      "text/plain": [
       "(504, 13)"
      ]
     },
     "execution_count": 59,
     "metadata": {},
     "output_type": "execute_result"
    }
   ],
   "source": [
    "df_bikes.shape"
   ]
  },
  {
   "cell_type": "markdown",
   "id": "94bcc744",
   "metadata": {},
   "source": [
    "Exibe o valor total de motos que estão acima ao da tabela Fipe e IPVA Pago"
   ]
  },
  {
   "cell_type": "code",
   "execution_count": 72,
   "id": "ca8ba4a7",
   "metadata": {},
   "outputs": [],
   "source": [
    "bikes = (df_bikes['Price'] > df_bikes['Fipe'])"
   ]
  },
  {
   "cell_type": "code",
   "execution_count": 73,
   "id": "0e149e26",
   "metadata": {},
   "outputs": [
    {
     "data": {
      "text/plain": [
       "41"
      ]
     },
     "execution_count": 73,
     "metadata": {},
     "output_type": "execute_result"
    }
   ],
   "source": [
    "df_bikes[bikes].shape[0]"
   ]
  },
  {
   "cell_type": "markdown",
   "id": "6db747fd",
   "metadata": {},
   "source": [
    "Exibe o valor total de motos que estão abaixo ou igual ao da tabela Fipe e IPVA Pago"
   ]
  },
  {
   "cell_type": "code",
   "execution_count": 74,
   "id": "c134155b",
   "metadata": {},
   "outputs": [],
   "source": [
    "bikes = (df_bikes['Price'] <= df_bikes['Fipe'])"
   ]
  },
  {
   "cell_type": "code",
   "execution_count": 75,
   "id": "b6530a01",
   "metadata": {},
   "outputs": [
    {
     "data": {
      "text/plain": [
       "463"
      ]
     },
     "execution_count": 75,
     "metadata": {},
     "output_type": "execute_result"
    }
   ],
   "source": [
    "df_bikes[bikes].shape[0]"
   ]
  }
 ],
 "metadata": {
  "kernelspec": {
   "display_name": "Python 3 (ipykernel)",
   "language": "python",
   "name": "python3"
  },
  "language_info": {
   "codemirror_mode": {
    "name": "ipython",
    "version": 3
   },
   "file_extension": ".py",
   "mimetype": "text/x-python",
   "name": "python",
   "nbconvert_exporter": "python",
   "pygments_lexer": "ipython3",
   "version": "3.10.9"
  }
 },
 "nbformat": 4,
 "nbformat_minor": 5
}
