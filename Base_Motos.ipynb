{
 "cells": [
  {
   "cell_type": "markdown",
   "id": "eeed4e08",
   "metadata": {},
   "source": [
    "# TCC MBA USP EsalQ - Data Science Analytics\n",
    "\n",
    "## (Maicon C. Melara - Turma 2.1.2 - 2023)\n"
   ]
  },
  {
   "cell_type": "markdown",
   "id": "3bb29c79",
   "metadata": {},
   "source": [
    "## Importando Bibliotecas"
   ]
  },
  {
   "cell_type": "code",
   "execution_count": 1,
   "id": "f4244a77",
   "metadata": {},
   "outputs": [],
   "source": [
    "# pip install -U scikit-learnimport json\n",
    "\n",
    "import json\n",
    "import pandas as pd # lib pandas\n",
    "import numpy as np # lib numpy\n",
    "import datetime # lib datetime\n",
    "\n",
    "import matplotlib.pyplot as plt # lib para utilização dos gráficos\n",
    "import seaborn as sns # lib para exibir dados estátisticos\n",
    "\n",
    "# import numpy as np from scipy import stats\n",
    "# stats.mode(np.ones(3))[0]\n",
    "\n",
    "# Necessário para visualização automática dos gráficos no Jupyter\n",
    "%matplotlib inline\n",
    "\n",
    "from pathlib import Path\n",
    "from pandas import json_normalize # package for flattening json in pandas df\n",
    "from scipy import stats\n",
    "\n",
    "# lib sklearn\n",
    "from sklearn.model_selection import train_test_split # lib para definir os dados de treino e de teste\n",
    "from sklearn.neighbors import KNeighborsClassifier # lib classe KNeighborsClassifier - Classificação \n",
    "from sklearn.metrics import accuracy_score, classification_report, confusion_matrix, roc_auc_score,roc_curve\n",
    "from sklearn import preprocessing # Import LabelEncoder\n",
    "from sklearn.model_selection import GridSearchCV\n",
    "from sklearn.ensemble import RandomForestClassifier # lib classe RandomForestClassifier - Classificação \n",
    "\n",
    "# instalando a biblioteca \"yellowbrick\" pra plotar os gráficos KNeighborsClassifier e RandonForest \n",
    "# pip install yellowbrick\n",
    "# conda install -c districtdatalabs yellowbrick\n",
    "from yellowbrick.classifier import ClassificationReport"
   ]
  },
  {
   "cell_type": "markdown",
   "id": "d53c27a4",
   "metadata": {},
   "source": [
    "## Carregando Base de Dados \"data-bikes.json\""
   ]
  },
  {
   "cell_type": "code",
   "execution_count": 2,
   "id": "a24336ba",
   "metadata": {},
   "outputs": [
    {
     "name": "stdout",
     "output_type": "stream",
     "text": [
      "<class 'pandas.core.frame.DataFrame'>\n",
      "RangeIndex: 504 entries, 0 to 503\n",
      "Data columns (total 53 columns):\n",
      " #   Column                           Non-Null Count  Dtype  \n",
      "---  ------                           --------------  -----  \n",
      " 0   UniqueId                         504 non-null    int64  \n",
      " 1   PhotoPath                        503 non-null    object \n",
      " 2   Licensed                         504 non-null    bool   \n",
      " 3   ProductCode                      504 non-null    object \n",
      " 4   Channels                         504 non-null    object \n",
      " 5   LongComment                      384 non-null    object \n",
      " 6   IPVApaid                         504 non-null    bool   \n",
      " 7   Warranty                         504 non-null    bool   \n",
      " 8   Media.Photos                     503 non-null    object \n",
      " 9   Specification.Title              504 non-null    object \n",
      " 10  Specification.Make.id            504 non-null    int64  \n",
      " 11  Specification.Make.Value         504 non-null    object \n",
      " 12  Specification.Model.id           504 non-null    int64  \n",
      " 13  Specification.Model.Value        504 non-null    object \n",
      " 14  Specification.YearFabrication    504 non-null    object \n",
      " 15  Specification.YearModel          504 non-null    float64\n",
      " 16  Specification.Odometer           504 non-null    float64\n",
      " 17  Specification.CubicCentimeter    504 non-null    float64\n",
      " 18  Specification.BodyType           504 non-null    object \n",
      " 19  Specification.VehicleAttributes  485 non-null    object \n",
      " 20  Specification.Engine.Id          504 non-null    object \n",
      " 21  Specification.Engine.Value       504 non-null    object \n",
      " 22  Specification.Break.Id           504 non-null    object \n",
      " 23  Specification.Break.Value        504 non-null    object \n",
      " 24  Specification.Charge.Id          504 non-null    object \n",
      " 25  Specification.Charge.Value       504 non-null    object \n",
      " 26  Specification.Cooling.Id         504 non-null    object \n",
      " 27  Specification.Cooling.Value      504 non-null    object \n",
      " 28  Specification.Shift.Id           504 non-null    object \n",
      " 29  Specification.Shift.Value        504 non-null    object \n",
      " 30  Specification.Starter.Id         504 non-null    object \n",
      " 31  Specification.Starter.Value      504 non-null    object \n",
      " 32  Specification.Color.IdPrimary    504 non-null    object \n",
      " 33  Specification.Color.Primary      504 non-null    object \n",
      " 34  Specification.Color.IdSecundary  504 non-null    object \n",
      " 35  Specification.Color.Secundary    415 non-null    object \n",
      " 36  Seller.Id                        504 non-null    int64  \n",
      " 37  Seller.SellerType                504 non-null    object \n",
      " 38  Seller.City                      504 non-null    object \n",
      " 39  Seller.State                     504 non-null    object \n",
      " 40  Seller.AdType.id                 504 non-null    int64  \n",
      " 41  Seller.AdType.Value              504 non-null    object \n",
      " 42  Seller.BudgetInvestimento        504 non-null    int64  \n",
      " 43  Seller.DealerScore               504 non-null    int64  \n",
      " 44  Seller.OnlyOwner                 503 non-null    object \n",
      " 45  Seller.TrocaComTroco             504 non-null    bool   \n",
      " 46  Seller.ExceededPlan              504 non-null    bool   \n",
      " 47  Prices.Price                     504 non-null    float64\n",
      " 48  Prices.SearchPrice               504 non-null    float64\n",
      " 49  FipePercent                      125 non-null    float64\n",
      " 50  GoodDeal                         30 non-null     object \n",
      " 51  Seller.FantasyName               36 non-null     object \n",
      " 52  Seller.CarDelivery               1 non-null      object \n",
      "dtypes: bool(5), float64(6), int64(7), object(35)\n",
      "memory usage: 191.6+ KB\n"
     ]
    }
   ],
   "source": [
    "p = Path(r'C:\\Users\\maicon.melara\\Documents\\Python\\data\\Bases\\data-bikes.json')\n",
    "with p.open('r', encoding='utf-8') as f:\n",
    "    data = json.loads(f.read())\n",
    "\n",
    "df_bikes = json_normalize(data) \n",
    "\n",
    "df_bikes.info()"
   ]
  },
  {
   "cell_type": "markdown",
   "id": "da15e117",
   "metadata": {},
   "source": [
    "## Carregando Base de Dados \"data-bikes-fipe.json\""
   ]
  },
  {
   "cell_type": "code",
   "execution_count": 3,
   "id": "326f91dd",
   "metadata": {},
   "outputs": [
    {
     "name": "stdout",
     "output_type": "stream",
     "text": [
      "<class 'pandas.core.frame.DataFrame'>\n",
      "RangeIndex: 504 entries, 0 to 503\n",
      "Data columns (total 2 columns):\n",
      " #   Column    Non-Null Count  Dtype  \n",
      "---  ------    --------------  -----  \n",
      " 0   Fipe      501 non-null    float64\n",
      " 1   UniqueId  504 non-null    int64  \n",
      "dtypes: float64(1), int64(1)\n",
      "memory usage: 8.0 KB\n"
     ]
    }
   ],
   "source": [
    "p = Path(r'C:\\Users\\maicon.melara\\Documents\\Python\\data\\Bases\\data-bikes-fipe.json')\n",
    "with p.open('r', encoding='utf-8') as f:\n",
    "    data = json.loads(f.read())\n",
    "                      \n",
    "df_bikes_fipe = json_normalize(data)  \n",
    "\n",
    "df_bikes_fipe.info()"
   ]
  },
  {
   "cell_type": "markdown",
   "id": "5e801b2c",
   "metadata": {},
   "source": [
    "## Unindo as bases de dados \"data-bikes\" e \"data-bikes-fipe\""
   ]
  },
  {
   "cell_type": "code",
   "execution_count": 4,
   "id": "6bdd0fcd",
   "metadata": {},
   "outputs": [],
   "source": [
    "df_bikes = df_bikes.join(df_bikes_fipe.set_index('UniqueId')[['Fipe']], on='UniqueId')"
   ]
  },
  {
   "cell_type": "markdown",
   "id": "ed4fa8ff",
   "metadata": {},
   "source": [
    "## Deletando campos da Base"
   ]
  },
  {
   "cell_type": "code",
   "execution_count": 5,
   "id": "9375124a",
   "metadata": {},
   "outputs": [],
   "source": [
    "del df_bikes['PhotoPath']\n",
    "del df_bikes['ProductCode']\n",
    "del df_bikes['Channels']\n",
    "del df_bikes['LongComment']\n",
    "del df_bikes['FipePercent'] "
   ]
  },
  {
   "cell_type": "code",
   "execution_count": 6,
   "id": "32d80f5b",
   "metadata": {},
   "outputs": [],
   "source": [
    "del df_bikes['Media.Photos'] \n",
    "del df_bikes['Seller.Id'] \n",
    "del df_bikes['Seller.SellerType'] \n",
    "del df_bikes['Seller.AdType.id']\n",
    "del df_bikes['Seller.AdType.Value'] \n",
    "del df_bikes['Seller.CarDelivery'] \n",
    "del df_bikes['Seller.TrocaComTroco']\n",
    "del df_bikes['Seller.ExceededPlan'] \n",
    "del df_bikes['Seller.BudgetInvestimento'] \n",
    "del df_bikes['Seller.DealerScore'] \n",
    "del df_bikes['Seller.City'] \n",
    "del df_bikes['Seller.State'] \n",
    "del df_bikes['Seller.FantasyName']  "
   ]
  },
  {
   "cell_type": "code",
   "execution_count": 7,
   "id": "4c2f3c04",
   "metadata": {},
   "outputs": [],
   "source": [
    "del df_bikes['Specification.Model.id'] \n",
    "del df_bikes['Specification.Make.id'] \n",
    "del df_bikes['Specification.Color.IdPrimary']\n",
    "del df_bikes['Specification.VehicleAttributes'] \n",
    "del df_bikes['Specification.YearFabrication']\n",
    "del df_bikes['Specification.BodyType'] \n",
    "del df_bikes['Specification.Title']   \n",
    "del df_bikes['Specification.CubicCentimeter']     \n",
    "del df_bikes['Specification.Engine.Id']           \n",
    "del df_bikes['Specification.Engine.Value']       \n",
    "del df_bikes['Specification.Break.Id']            \n",
    "del df_bikes['Specification.Break.Value']         \n",
    "del df_bikes['Specification.Charge.Id']          \n",
    "del df_bikes['Specification.Charge.Value']     \n",
    "del df_bikes['Specification.Cooling.Id']        \n",
    "del df_bikes['Specification.Cooling.Value']      \n",
    "del df_bikes['Specification.Shift.Id']         \n",
    "del df_bikes['Specification.Shift.Value']      \n",
    "del df_bikes['Specification.Starter.Id']         \n",
    "del df_bikes['Specification.Starter.Value']            \n",
    "del df_bikes['Specification.Color.Secundary']   \n",
    "del df_bikes['Specification.Color.IdSecundary']\n",
    "del df_bikes['Prices.SearchPrice']"
   ]
  },
  {
   "cell_type": "code",
   "execution_count": 8,
   "id": "d3dd56f2",
   "metadata": {},
   "outputs": [
    {
     "name": "stdout",
     "output_type": "stream",
     "text": [
      "<class 'pandas.core.frame.DataFrame'>\n",
      "RangeIndex: 504 entries, 0 to 503\n",
      "Data columns (total 13 columns):\n",
      " #   Column                       Non-Null Count  Dtype  \n",
      "---  ------                       --------------  -----  \n",
      " 0   UniqueId                     504 non-null    int64  \n",
      " 1   Licensed                     504 non-null    bool   \n",
      " 2   IPVApaid                     504 non-null    bool   \n",
      " 3   Warranty                     504 non-null    bool   \n",
      " 4   Specification.Make.Value     504 non-null    object \n",
      " 5   Specification.Model.Value    504 non-null    object \n",
      " 6   Specification.YearModel      504 non-null    float64\n",
      " 7   Specification.Odometer       504 non-null    float64\n",
      " 8   Specification.Color.Primary  504 non-null    object \n",
      " 9   Seller.OnlyOwner             503 non-null    object \n",
      " 10  Prices.Price                 504 non-null    float64\n",
      " 11  GoodDeal                     30 non-null     object \n",
      " 12  Fipe                         501 non-null    float64\n",
      "dtypes: bool(3), float64(4), int64(1), object(5)\n",
      "memory usage: 41.0+ KB\n"
     ]
    }
   ],
   "source": [
    "df_bikes.info()"
   ]
  },
  {
   "cell_type": "markdown",
   "id": "abf43531",
   "metadata": {},
   "source": [
    "## Renomeando campos da Base"
   ]
  },
  {
   "cell_type": "code",
   "execution_count": 9,
   "id": "aefa8bfd",
   "metadata": {},
   "outputs": [],
   "source": [
    "df_bikes.rename({'Specification.Make.Value': 'Make',\n",
    "                'Specification.Model.Value': 'Model',\n",
    "              #  'Specification.Version.Value': 'Version',\n",
    "                'Specification.YearModel': 'YearModel',\n",
    "                'Specification.Odometer': 'Odometer',\n",
    "              #  'Specification.Armored': 'Armored',\n",
    "                'Prices.Price': 'Price',\n",
    "                'Specification.Color.Primary': 'Color',\n",
    "                               }, axis=1, inplace=True)"
   ]
  },
  {
   "cell_type": "code",
   "execution_count": 10,
   "id": "a523c169",
   "metadata": {},
   "outputs": [],
   "source": [
    "df_bikes.rename({'Seller.OnlyOwner': 'OnlyOwner',}, axis=1, inplace=True) "
   ]
  },
  {
   "cell_type": "markdown",
   "id": "e01300f5",
   "metadata": {},
   "source": [
    "## Convertendo alguns DTypes"
   ]
  },
  {
   "cell_type": "code",
   "execution_count": 11,
   "id": "b21355d6",
   "metadata": {},
   "outputs": [],
   "source": [
    "df_bikes['YearModel'] = df_bikes['YearModel'].astype('int64')\n",
    "df_bikes['Make'] = df_bikes['Make'].astype('string')\n",
    "df_bikes['Model'] = df_bikes['Model'].astype('string') "
   ]
  },
  {
   "cell_type": "markdown",
   "id": "356ce125",
   "metadata": {},
   "source": [
    "## Verificando se há valores nulos após o tratamento dos dados"
   ]
  },
  {
   "cell_type": "code",
   "execution_count": 12,
   "id": "e1c77b30",
   "metadata": {},
   "outputs": [
    {
     "data": {
      "text/plain": [
       "UniqueId       0\n",
       "Licensed       0\n",
       "IPVApaid       0\n",
       "Warranty       0\n",
       "Make           0\n",
       "Model          0\n",
       "YearModel      0\n",
       "Odometer       0\n",
       "Color          0\n",
       "OnlyOwner      1\n",
       "Price          0\n",
       "GoodDeal     474\n",
       "Fipe           3\n",
       "dtype: int64"
      ]
     },
     "execution_count": 12,
     "metadata": {},
     "output_type": "execute_result"
    }
   ],
   "source": [
    "df_bikes.isnull().sum()"
   ]
  },
  {
   "cell_type": "markdown",
   "id": "55889168",
   "metadata": {},
   "source": [
    "## Exibindo a dimensão do DataFrame - (linhas x colunas)"
   ]
  },
  {
   "cell_type": "code",
   "execution_count": 17,
   "id": "ecc0162b",
   "metadata": {},
   "outputs": [
    {
     "name": "stdout",
     "output_type": "stream",
     "text": [
      "<class 'pandas.core.frame.DataFrame'>\n",
      "RangeIndex: 504 entries, 0 to 503\n",
      "Data columns (total 13 columns):\n",
      " #   Column     Non-Null Count  Dtype  \n",
      "---  ------     --------------  -----  \n",
      " 0   UniqueId   504 non-null    int64  \n",
      " 1   Licensed   504 non-null    bool   \n",
      " 2   IPVApaid   504 non-null    bool   \n",
      " 3   Warranty   504 non-null    bool   \n",
      " 4   Make       504 non-null    string \n",
      " 5   Model      504 non-null    string \n",
      " 6   YearModel  504 non-null    int64  \n",
      " 7   Odometer   504 non-null    float64\n",
      " 8   Color      504 non-null    object \n",
      " 9   OnlyOwner  504 non-null    object \n",
      " 10  Price      504 non-null    float64\n",
      " 11  GoodDeal   504 non-null    object \n",
      " 12  Fipe       504 non-null    object \n",
      "dtypes: bool(3), float64(2), int64(2), object(4), string(2)\n",
      "memory usage: 41.0+ KB\n"
     ]
    }
   ],
   "source": [
    "df_bikes.info()"
   ]
  },
  {
   "cell_type": "markdown",
   "id": "ec977173",
   "metadata": {},
   "source": [
    "## Verificando colunas que estão com valores nulos, como: GoodDeal, OnlyOwner, Fipe. Considerando como False"
   ]
  },
  {
   "cell_type": "code",
   "execution_count": 14,
   "id": "276c6116",
   "metadata": {},
   "outputs": [
    {
     "name": "stderr",
     "output_type": "stream",
     "text": [
      "C:\\Users\\maicon.melara\\AppData\\Local\\Temp\\ipykernel_2912\\237766335.py:1: SettingWithCopyWarning: \n",
      "A value is trying to be set on a copy of a slice from a DataFrame\n",
      "\n",
      "See the caveats in the documentation: https://pandas.pydata.org/pandas-docs/stable/user_guide/indexing.html#returning-a-view-versus-a-copy\n",
      "  df_bikes['OnlyOwner'].loc[df_bikes['OnlyOwner'].isnull()] = False\n"
     ]
    }
   ],
   "source": [
    "df_bikes['OnlyOwner'].loc[df_bikes['OnlyOwner'].isnull()] = False"
   ]
  },
  {
   "cell_type": "code",
   "execution_count": 15,
   "id": "2ed7b56a",
   "metadata": {},
   "outputs": [
    {
     "name": "stderr",
     "output_type": "stream",
     "text": [
      "C:\\Users\\maicon.melara\\AppData\\Local\\Temp\\ipykernel_2912\\615574616.py:1: SettingWithCopyWarning: \n",
      "A value is trying to be set on a copy of a slice from a DataFrame\n",
      "\n",
      "See the caveats in the documentation: https://pandas.pydata.org/pandas-docs/stable/user_guide/indexing.html#returning-a-view-versus-a-copy\n",
      "  df_bikes['GoodDeal'].loc[df_bikes['GoodDeal'].isnull()] = False\n"
     ]
    }
   ],
   "source": [
    "df_bikes['GoodDeal'].loc[df_bikes['GoodDeal'].isnull()] = False"
   ]
  },
  {
   "cell_type": "code",
   "execution_count": 16,
   "id": "6bd222dc",
   "metadata": {},
   "outputs": [
    {
     "name": "stderr",
     "output_type": "stream",
     "text": [
      "C:\\Users\\maicon.melara\\AppData\\Local\\Temp\\ipykernel_2912\\3232823127.py:1: SettingWithCopyWarning: \n",
      "A value is trying to be set on a copy of a slice from a DataFrame\n",
      "\n",
      "See the caveats in the documentation: https://pandas.pydata.org/pandas-docs/stable/user_guide/indexing.html#returning-a-view-versus-a-copy\n",
      "  df_bikes['Fipe'].loc[df_bikes['Fipe'].isnull()] = False\n"
     ]
    }
   ],
   "source": [
    "df_bikes['Fipe'].loc[df_bikes['Fipe'].isnull()] = False"
   ]
  },
  {
   "cell_type": "markdown",
   "id": "ff85763c",
   "metadata": {},
   "source": [
    " ## Exibindo a dimensão do DataFrame - (Qtd de linhas x colunas)"
   ]
  },
  {
   "cell_type": "code",
   "execution_count": 18,
   "id": "a7f45d18",
   "metadata": {},
   "outputs": [
    {
     "data": {
      "text/plain": [
       "(504, 13)"
      ]
     },
     "execution_count": 18,
     "metadata": {},
     "output_type": "execute_result"
    }
   ],
   "source": [
    "df_bikes.shape"
   ]
  },
  {
   "cell_type": "markdown",
   "id": "94bcc744",
   "metadata": {},
   "source": [
    "## Exibindo o valor total de motos que estão acima ao da tabela Fipe e IPVA Pago"
   ]
  },
  {
   "cell_type": "code",
   "execution_count": 19,
   "id": "ca8ba4a7",
   "metadata": {},
   "outputs": [],
   "source": [
    "bikes = (df_bikes['Price'] > df_bikes['Fipe'])"
   ]
  },
  {
   "cell_type": "code",
   "execution_count": 20,
   "id": "0e149e26",
   "metadata": {},
   "outputs": [
    {
     "data": {
      "text/plain": [
       "41"
      ]
     },
     "execution_count": 20,
     "metadata": {},
     "output_type": "execute_result"
    }
   ],
   "source": [
    "df_bikes[bikes].shape[0]"
   ]
  },
  {
   "cell_type": "markdown",
   "id": "6db747fd",
   "metadata": {},
   "source": [
    "## Exibindo o valor total de motos que estão abaixo ou igual ao da tabela Fipe e IPVA Pago"
   ]
  },
  {
   "cell_type": "code",
   "execution_count": 21,
   "id": "c134155b",
   "metadata": {},
   "outputs": [],
   "source": [
    "bikes = (df_bikes['Price'] <= df_bikes['Fipe']) & (df_bikes['IPVApaid'])"
   ]
  },
  {
   "cell_type": "code",
   "execution_count": 22,
   "id": "b6530a01",
   "metadata": {},
   "outputs": [
    {
     "data": {
      "text/plain": [
       "463"
      ]
     },
     "execution_count": 22,
     "metadata": {},
     "output_type": "execute_result"
    }
   ],
   "source": [
    "df_bikes[bikes].shape[0]"
   ]
  },
  {
   "cell_type": "markdown",
   "id": "6f4b5ee1",
   "metadata": {},
   "source": [
    "## Criando colunas que terão relação na verificação se a moto é ou não um bom negócio (PriceFipeOk e Year>10Years )"
   ]
  },
  {
   "cell_type": "code",
   "execution_count": 23,
   "id": "35e23574",
   "metadata": {},
   "outputs": [],
   "source": [
    "df_bikes['PriceFipeOk'] = (df_bikes['Price'] <= df_bikes['Fipe'])"
   ]
  },
  {
   "cell_type": "code",
   "execution_count": 24,
   "id": "4f6de7fa",
   "metadata": {},
   "outputs": [
    {
     "name": "stdout",
     "output_type": "stream",
     "text": [
      "<class 'pandas.core.frame.DataFrame'>\n",
      "RangeIndex: 504 entries, 0 to 503\n",
      "Data columns (total 14 columns):\n",
      " #   Column       Non-Null Count  Dtype  \n",
      "---  ------       --------------  -----  \n",
      " 0   UniqueId     504 non-null    int64  \n",
      " 1   Licensed     504 non-null    bool   \n",
      " 2   IPVApaid     504 non-null    bool   \n",
      " 3   Warranty     504 non-null    bool   \n",
      " 4   Make         504 non-null    string \n",
      " 5   Model        504 non-null    string \n",
      " 6   YearModel    504 non-null    int64  \n",
      " 7   Odometer     504 non-null    float64\n",
      " 8   Color        504 non-null    object \n",
      " 9   OnlyOwner    504 non-null    object \n",
      " 10  Price        504 non-null    float64\n",
      " 11  GoodDeal     504 non-null    object \n",
      " 12  Fipe         504 non-null    object \n",
      " 13  PriceFipeOk  504 non-null    bool   \n",
      "dtypes: bool(4), float64(2), int64(2), object(4), string(2)\n",
      "memory usage: 41.5+ KB\n"
     ]
    }
   ],
   "source": [
    "df_bikes.info()"
   ]
  },
  {
   "cell_type": "markdown",
   "id": "f5c9f919",
   "metadata": {},
   "source": [
    "## Setando a datetime ou \"data atual\" - essa coluna ajudará na identificação se a moto tem mais de 10 anos (True- sim, False-não)"
   ]
  },
  {
   "cell_type": "code",
   "execution_count": 25,
   "id": "c4afc1dd",
   "metadata": {},
   "outputs": [],
   "source": [
    "now = datetime.datetime.now()"
   ]
  },
  {
   "cell_type": "markdown",
   "id": "afa618bf",
   "metadata": {},
   "source": [
    "## Verificando se a diferença do ano é superior a 10"
   ]
  },
  {
   "cell_type": "code",
   "execution_count": 26,
   "id": "fca3c639",
   "metadata": {},
   "outputs": [],
   "source": [
    "df_bikes['Year>10Years'] = (now.year - df_bikes['YearModel'] > 10)"
   ]
  },
  {
   "cell_type": "code",
   "execution_count": 27,
   "id": "08b390e2",
   "metadata": {},
   "outputs": [
    {
     "data": {
      "text/html": [
       "<div>\n",
       "<style scoped>\n",
       "    .dataframe tbody tr th:only-of-type {\n",
       "        vertical-align: middle;\n",
       "    }\n",
       "\n",
       "    .dataframe tbody tr th {\n",
       "        vertical-align: top;\n",
       "    }\n",
       "\n",
       "    .dataframe thead th {\n",
       "        text-align: right;\n",
       "    }\n",
       "</style>\n",
       "<table border=\"1\" class=\"dataframe\">\n",
       "  <thead>\n",
       "    <tr style=\"text-align: right;\">\n",
       "      <th></th>\n",
       "      <th>UniqueId</th>\n",
       "      <th>Licensed</th>\n",
       "      <th>IPVApaid</th>\n",
       "      <th>Warranty</th>\n",
       "      <th>Make</th>\n",
       "      <th>Model</th>\n",
       "      <th>YearModel</th>\n",
       "      <th>Odometer</th>\n",
       "      <th>Color</th>\n",
       "      <th>OnlyOwner</th>\n",
       "      <th>Price</th>\n",
       "      <th>GoodDeal</th>\n",
       "      <th>Fipe</th>\n",
       "      <th>PriceFipeOk</th>\n",
       "      <th>Year&gt;10Years</th>\n",
       "    </tr>\n",
       "  </thead>\n",
       "  <tbody>\n",
       "    <tr>\n",
       "      <th>0</th>\n",
       "      <td>1705741</td>\n",
       "      <td>True</td>\n",
       "      <td>True</td>\n",
       "      <td>True</td>\n",
       "      <td>HONDA</td>\n",
       "      <td>PCX</td>\n",
       "      <td>2019</td>\n",
       "      <td>13800.0</td>\n",
       "      <td>Prata</td>\n",
       "      <td>True</td>\n",
       "      <td>16800.0</td>\n",
       "      <td>False</td>\n",
       "      <td>16800.0</td>\n",
       "      <td>True</td>\n",
       "      <td>False</td>\n",
       "    </tr>\n",
       "    <tr>\n",
       "      <th>1</th>\n",
       "      <td>1463983</td>\n",
       "      <td>True</td>\n",
       "      <td>True</td>\n",
       "      <td>True</td>\n",
       "      <td>SUZUKI</td>\n",
       "      <td>GSX-R750</td>\n",
       "      <td>1997</td>\n",
       "      <td>24000.0</td>\n",
       "      <td>Azul</td>\n",
       "      <td>True</td>\n",
       "      <td>21000.0</td>\n",
       "      <td>False</td>\n",
       "      <td>21000.0</td>\n",
       "      <td>True</td>\n",
       "      <td>True</td>\n",
       "    </tr>\n",
       "    <tr>\n",
       "      <th>2</th>\n",
       "      <td>1705744</td>\n",
       "      <td>True</td>\n",
       "      <td>True</td>\n",
       "      <td>True</td>\n",
       "      <td>BMW</td>\n",
       "      <td>R 1250 GS TRIPLE BLACK</td>\n",
       "      <td>2022</td>\n",
       "      <td>8000.0</td>\n",
       "      <td>Preto</td>\n",
       "      <td>True</td>\n",
       "      <td>105900.0</td>\n",
       "      <td>False</td>\n",
       "      <td>105900.0</td>\n",
       "      <td>True</td>\n",
       "      <td>False</td>\n",
       "    </tr>\n",
       "    <tr>\n",
       "      <th>3</th>\n",
       "      <td>1790809</td>\n",
       "      <td>True</td>\n",
       "      <td>True</td>\n",
       "      <td>True</td>\n",
       "      <td>SUZUKI</td>\n",
       "      <td>V-STROM 1000 ABS</td>\n",
       "      <td>2018</td>\n",
       "      <td>16500.0</td>\n",
       "      <td>Cinza</td>\n",
       "      <td>True</td>\n",
       "      <td>52000.0</td>\n",
       "      <td>False</td>\n",
       "      <td>52000.0</td>\n",
       "      <td>True</td>\n",
       "      <td>False</td>\n",
       "    </tr>\n",
       "    <tr>\n",
       "      <th>4</th>\n",
       "      <td>1678884</td>\n",
       "      <td>True</td>\n",
       "      <td>True</td>\n",
       "      <td>True</td>\n",
       "      <td>BMW</td>\n",
       "      <td>G 310 GS</td>\n",
       "      <td>2021</td>\n",
       "      <td>1600.0</td>\n",
       "      <td>Preto</td>\n",
       "      <td>True</td>\n",
       "      <td>32500.0</td>\n",
       "      <td>False</td>\n",
       "      <td>32500.0</td>\n",
       "      <td>True</td>\n",
       "      <td>False</td>\n",
       "    </tr>\n",
       "  </tbody>\n",
       "</table>\n",
       "</div>"
      ],
      "text/plain": [
       "   UniqueId  Licensed  IPVApaid  Warranty    Make                   Model  \\\n",
       "0   1705741      True      True      True   HONDA                     PCX   \n",
       "1   1463983      True      True      True  SUZUKI                GSX-R750   \n",
       "2   1705744      True      True      True     BMW  R 1250 GS TRIPLE BLACK   \n",
       "3   1790809      True      True      True  SUZUKI        V-STROM 1000 ABS   \n",
       "4   1678884      True      True      True     BMW                G 310 GS   \n",
       "\n",
       "   YearModel  Odometer  Color OnlyOwner     Price GoodDeal      Fipe  \\\n",
       "0       2019   13800.0  Prata      True   16800.0    False   16800.0   \n",
       "1       1997   24000.0   Azul      True   21000.0    False   21000.0   \n",
       "2       2022    8000.0  Preto      True  105900.0    False  105900.0   \n",
       "3       2018   16500.0  Cinza      True   52000.0    False   52000.0   \n",
       "4       2021    1600.0  Preto      True   32500.0    False   32500.0   \n",
       "\n",
       "   PriceFipeOk  Year>10Years  \n",
       "0         True         False  \n",
       "1         True          True  \n",
       "2         True         False  \n",
       "3         True         False  \n",
       "4         True         False  "
      ]
     },
     "execution_count": 27,
     "metadata": {},
     "output_type": "execute_result"
    }
   ],
   "source": [
    "df_bikes.head()"
   ]
  },
  {
   "cell_type": "markdown",
   "id": "aa7f45b9",
   "metadata": {},
   "source": [
    "## Utilizando a função describe para exibir as Estatísticas Descritivas das colunas"
   ]
  },
  {
   "cell_type": "code",
   "execution_count": 28,
   "id": "6a32485e",
   "metadata": {},
   "outputs": [
    {
     "data": {
      "text/html": [
       "<div>\n",
       "<style scoped>\n",
       "    .dataframe tbody tr th:only-of-type {\n",
       "        vertical-align: middle;\n",
       "    }\n",
       "\n",
       "    .dataframe tbody tr th {\n",
       "        vertical-align: top;\n",
       "    }\n",
       "\n",
       "    .dataframe thead th {\n",
       "        text-align: right;\n",
       "    }\n",
       "</style>\n",
       "<table border=\"1\" class=\"dataframe\">\n",
       "  <thead>\n",
       "    <tr style=\"text-align: right;\">\n",
       "      <th></th>\n",
       "      <th>UniqueId</th>\n",
       "      <th>YearModel</th>\n",
       "      <th>Odometer</th>\n",
       "      <th>Price</th>\n",
       "    </tr>\n",
       "  </thead>\n",
       "  <tbody>\n",
       "    <tr>\n",
       "      <th>count</th>\n",
       "      <td>504.00</td>\n",
       "      <td>504.00</td>\n",
       "      <td>504.00</td>\n",
       "      <td>504.00</td>\n",
       "    </tr>\n",
       "    <tr>\n",
       "      <th>mean</th>\n",
       "      <td>1716721.77</td>\n",
       "      <td>2016.88</td>\n",
       "      <td>23233.33</td>\n",
       "      <td>47048.93</td>\n",
       "    </tr>\n",
       "    <tr>\n",
       "      <th>std</th>\n",
       "      <td>140477.54</td>\n",
       "      <td>5.70</td>\n",
       "      <td>22905.33</td>\n",
       "      <td>33258.10</td>\n",
       "    </tr>\n",
       "    <tr>\n",
       "      <th>min</th>\n",
       "      <td>456672.00</td>\n",
       "      <td>1977.00</td>\n",
       "      <td>0.00</td>\n",
       "      <td>6300.00</td>\n",
       "    </tr>\n",
       "    <tr>\n",
       "      <th>25%</th>\n",
       "      <td>1702137.00</td>\n",
       "      <td>2015.00</td>\n",
       "      <td>6500.00</td>\n",
       "      <td>20837.50</td>\n",
       "    </tr>\n",
       "    <tr>\n",
       "      <th>50%</th>\n",
       "      <td>1759525.00</td>\n",
       "      <td>2019.00</td>\n",
       "      <td>16500.00</td>\n",
       "      <td>41900.00</td>\n",
       "    </tr>\n",
       "    <tr>\n",
       "      <th>75%</th>\n",
       "      <td>1787003.25</td>\n",
       "      <td>2021.00</td>\n",
       "      <td>32261.75</td>\n",
       "      <td>63750.00</td>\n",
       "    </tr>\n",
       "    <tr>\n",
       "      <th>max</th>\n",
       "      <td>1809586.00</td>\n",
       "      <td>2023.00</td>\n",
       "      <td>130000.00</td>\n",
       "      <td>310000.00</td>\n",
       "    </tr>\n",
       "  </tbody>\n",
       "</table>\n",
       "</div>"
      ],
      "text/plain": [
       "         UniqueId  YearModel   Odometer      Price\n",
       "count      504.00     504.00     504.00     504.00\n",
       "mean   1716721.77    2016.88   23233.33   47048.93\n",
       "std     140477.54       5.70   22905.33   33258.10\n",
       "min     456672.00    1977.00       0.00    6300.00\n",
       "25%    1702137.00    2015.00    6500.00   20837.50\n",
       "50%    1759525.00    2019.00   16500.00   41900.00\n",
       "75%    1787003.25    2021.00   32261.75   63750.00\n",
       "max    1809586.00    2023.00  130000.00  310000.00"
      ]
     },
     "execution_count": 28,
     "metadata": {},
     "output_type": "execute_result"
    }
   ],
   "source": [
    "df_bikes.describe().round(2)"
   ]
  },
  {
   "cell_type": "markdown",
   "id": "2ab7ddef",
   "metadata": {},
   "source": [
    "## Coluna GoodDeal (Bom Negócio)\n",
    "\n",
    "#### Agrupa por GoodDeal e remove o index (GoodDeal)"
   ]
  },
  {
   "cell_type": "code",
   "execution_count": 29,
   "id": "caccb07b",
   "metadata": {},
   "outputs": [],
   "source": [
    "bikes_group_good_deal = df_bikes.groupby(['GoodDeal'], as_index=False)"
   ]
  },
  {
   "cell_type": "markdown",
   "id": "697ab55c",
   "metadata": {},
   "source": [
    "#### Exibe colunas: GoodDeal: valor único (agrupado) e UniqueId: quantidade de registros"
   ]
  },
  {
   "cell_type": "code",
   "execution_count": 30,
   "id": "a8189d84",
   "metadata": {},
   "outputs": [],
   "source": [
    "bikes_group_good_deal = bikes_group_good_deal.agg({'UniqueId': np.size}).round(2)"
   ]
  },
  {
   "cell_type": "markdown",
   "id": "3e8c7b71",
   "metadata": {},
   "source": [
    "#### Renomeando as colunas para apresentá-las"
   ]
  },
  {
   "cell_type": "code",
   "execution_count": 31,
   "id": "8929bf4c",
   "metadata": {},
   "outputs": [],
   "source": [
    "bikes_group_good_deal = bikes_group_good_deal.rename(columns={'GoodDeal':'Bom Negócio', 'UniqueId': 'Quantidade'})"
   ]
  },
  {
   "cell_type": "markdown",
   "id": "26d0f6bc",
   "metadata": {},
   "source": [
    "#### Alterando os valores das linhas da coluna Bom Negócio para o label text - (facilitará no uso do gráfico)"
   ]
  },
  {
   "cell_type": "code",
   "execution_count": 32,
   "id": "aafb5680",
   "metadata": {},
   "outputs": [],
   "source": [
    "bikes_group_good_deal.loc[bikes_group_good_deal['Bom Negócio'] == True, ['Bom Negócio']] = 'Bom Negócio'"
   ]
  },
  {
   "cell_type": "code",
   "execution_count": 33,
   "id": "5e8ea400",
   "metadata": {},
   "outputs": [],
   "source": [
    "bikes_group_good_deal.loc[bikes_group_good_deal['Bom Negócio'] == False, ['Bom Negócio']] = 'Pode não ser um Bom Negócio'"
   ]
  },
  {
   "cell_type": "markdown",
   "id": "ed6d6fbc",
   "metadata": {},
   "source": [
    "#### Calculando a Porcentagem da coluna Quantidade - (a mesma será usada no gráfico)"
   ]
  },
  {
   "cell_type": "code",
   "execution_count": 34,
   "id": "b06dad4a",
   "metadata": {},
   "outputs": [],
   "source": [
    "bikes_group_good_deal['Porcentagem'] = (bikes_group_good_deal['Quantidade'] / bikes_group_good_deal['Quantidade'].sum()) * 100"
   ]
  },
  {
   "cell_type": "markdown",
   "id": "8102a6f9",
   "metadata": {},
   "source": [
    "#### Ordenando o Dataframe para apresentar primeiro os valores \"Valor > Fipe\" e posteriormente \"Valor <= Fipe\" - ( garantirá no gráfico esta ordem para utilização da configuração de cores)"
   ]
  },
  {
   "cell_type": "code",
   "execution_count": 35,
   "id": "dba3bb70",
   "metadata": {},
   "outputs": [],
   "source": [
    "bikes_group_good_deal = bikes_group_good_deal.sort_values(by=['Bom Negócio'], ascending=False)"
   ]
  },
  {
   "cell_type": "markdown",
   "id": "81d4ceec",
   "metadata": {},
   "source": [
    "#### Exibindo o quadro com os valores"
   ]
  },
  {
   "cell_type": "code",
   "execution_count": 36,
   "id": "102890eb",
   "metadata": {},
   "outputs": [
    {
     "data": {
      "text/html": [
       "<div>\n",
       "<style scoped>\n",
       "    .dataframe tbody tr th:only-of-type {\n",
       "        vertical-align: middle;\n",
       "    }\n",
       "\n",
       "    .dataframe tbody tr th {\n",
       "        vertical-align: top;\n",
       "    }\n",
       "\n",
       "    .dataframe thead th {\n",
       "        text-align: right;\n",
       "    }\n",
       "</style>\n",
       "<table border=\"1\" class=\"dataframe\">\n",
       "  <thead>\n",
       "    <tr style=\"text-align: right;\">\n",
       "      <th></th>\n",
       "      <th>Bom Negócio</th>\n",
       "      <th>Quantidade</th>\n",
       "      <th>Porcentagem</th>\n",
       "    </tr>\n",
       "  </thead>\n",
       "  <tbody>\n",
       "    <tr>\n",
       "      <th>0</th>\n",
       "      <td>Pode não ser um Bom Negócio</td>\n",
       "      <td>474</td>\n",
       "      <td>94.047619</td>\n",
       "    </tr>\n",
       "    <tr>\n",
       "      <th>1</th>\n",
       "      <td>Bom Negócio</td>\n",
       "      <td>30</td>\n",
       "      <td>5.952381</td>\n",
       "    </tr>\n",
       "  </tbody>\n",
       "</table>\n",
       "</div>"
      ],
      "text/plain": [
       "                   Bom Negócio  Quantidade  Porcentagem\n",
       "0  Pode não ser um Bom Negócio         474    94.047619\n",
       "1                  Bom Negócio          30     5.952381"
      ]
     },
     "execution_count": 36,
     "metadata": {},
     "output_type": "execute_result"
    }
   ],
   "source": [
    "bikes_group_good_deal"
   ]
  },
  {
   "cell_type": "markdown",
   "id": "3c214682",
   "metadata": {},
   "source": [
    "## Preparando a tabela com o \"Preço Médio\" e a \"Quantidade\" de motos de cada marca"
   ]
  },
  {
   "cell_type": "markdown",
   "id": "6293ffb4",
   "metadata": {},
   "source": [
    "#### Agrupando e exibindo motos pelo \"preço médio\" de cada marca"
   ]
  },
  {
   "cell_type": "code",
   "execution_count": 37,
   "id": "637eda6e",
   "metadata": {},
   "outputs": [],
   "source": [
    "bikes_group_make_mean = df_bikes.groupby(['Make'], as_index=False)"
   ]
  },
  {
   "cell_type": "markdown",
   "id": "b57e0788",
   "metadata": {},
   "source": [
    "#### Exibindo colunas:  Model = valor único (agrupado) e Preço = média de preço daquela Marca"
   ]
  },
  {
   "cell_type": "code",
   "execution_count": 38,
   "id": "26faa1e1",
   "metadata": {},
   "outputs": [],
   "source": [
    "bikes_group_make_mean = bikes_group_make_mean.agg({'Price':np.mean, 'UniqueId': np.size}).round(2)"
   ]
  },
  {
   "cell_type": "markdown",
   "id": "dfcb60cc",
   "metadata": {},
   "source": [
    "#### Renomeando as colunas para apresentá-las"
   ]
  },
  {
   "cell_type": "code",
   "execution_count": 39,
   "id": "9a76d23e",
   "metadata": {},
   "outputs": [],
   "source": [
    "bikes_group_make_mean = bikes_group_make_mean.rename(columns={'Make':'Marca','Price':'Preço Médio', 'UniqueId': 'Quantidade'})"
   ]
  },
  {
   "cell_type": "markdown",
   "id": "820f5909",
   "metadata": {},
   "source": [
    "#### Ordenando em ordem Decrescente pela coluna modelo"
   ]
  },
  {
   "cell_type": "code",
   "execution_count": 40,
   "id": "cbb84a6e",
   "metadata": {},
   "outputs": [],
   "source": [
    "bikes_group_make_mean = bikes_group_make_mean.sort_values('Marca', ascending=True)"
   ]
  },
  {
   "cell_type": "markdown",
   "id": "287e11f0",
   "metadata": {},
   "source": [
    "#### Exibindo tabela com o \"Preço Médio\" e a \"Quantidade\" de motos de cada marca"
   ]
  },
  {
   "cell_type": "code",
   "execution_count": 41,
   "id": "757f24b8",
   "metadata": {},
   "outputs": [
    {
     "data": {
      "text/html": [
       "<div>\n",
       "<style scoped>\n",
       "    .dataframe tbody tr th:only-of-type {\n",
       "        vertical-align: middle;\n",
       "    }\n",
       "\n",
       "    .dataframe tbody tr th {\n",
       "        vertical-align: top;\n",
       "    }\n",
       "\n",
       "    .dataframe thead th {\n",
       "        text-align: right;\n",
       "    }\n",
       "</style>\n",
       "<table border=\"1\" class=\"dataframe\">\n",
       "  <thead>\n",
       "    <tr style=\"text-align: right;\">\n",
       "      <th></th>\n",
       "      <th>Marca</th>\n",
       "      <th>Preço Médio</th>\n",
       "      <th>Quantidade</th>\n",
       "    </tr>\n",
       "  </thead>\n",
       "  <tbody>\n",
       "    <tr>\n",
       "      <th>0</th>\n",
       "      <td>BMW</td>\n",
       "      <td>68162.76</td>\n",
       "      <td>83</td>\n",
       "    </tr>\n",
       "    <tr>\n",
       "      <th>1</th>\n",
       "      <td>BP</td>\n",
       "      <td>25000.00</td>\n",
       "      <td>1</td>\n",
       "    </tr>\n",
       "    <tr>\n",
       "      <th>2</th>\n",
       "      <td>CAN-AM</td>\n",
       "      <td>164950.00</td>\n",
       "      <td>2</td>\n",
       "    </tr>\n",
       "    <tr>\n",
       "      <th>3</th>\n",
       "      <td>DAFRA</td>\n",
       "      <td>18938.18</td>\n",
       "      <td>11</td>\n",
       "    </tr>\n",
       "    <tr>\n",
       "      <th>4</th>\n",
       "      <td>DUCATI</td>\n",
       "      <td>80867.79</td>\n",
       "      <td>19</td>\n",
       "    </tr>\n",
       "    <tr>\n",
       "      <th>5</th>\n",
       "      <td>HAOJUE</td>\n",
       "      <td>10517.80</td>\n",
       "      <td>5</td>\n",
       "    </tr>\n",
       "    <tr>\n",
       "      <th>6</th>\n",
       "      <td>HARLEY-DAVIDSON</td>\n",
       "      <td>73152.42</td>\n",
       "      <td>66</td>\n",
       "    </tr>\n",
       "    <tr>\n",
       "      <th>7</th>\n",
       "      <td>HONDA</td>\n",
       "      <td>31748.68</td>\n",
       "      <td>110</td>\n",
       "    </tr>\n",
       "    <tr>\n",
       "      <th>8</th>\n",
       "      <td>INDIAN</td>\n",
       "      <td>79800.00</td>\n",
       "      <td>1</td>\n",
       "    </tr>\n",
       "    <tr>\n",
       "      <th>9</th>\n",
       "      <td>KASINSKI</td>\n",
       "      <td>10900.00</td>\n",
       "      <td>1</td>\n",
       "    </tr>\n",
       "    <tr>\n",
       "      <th>10</th>\n",
       "      <td>KAWASAKI</td>\n",
       "      <td>38596.71</td>\n",
       "      <td>38</td>\n",
       "    </tr>\n",
       "    <tr>\n",
       "      <th>11</th>\n",
       "      <td>KYMCO</td>\n",
       "      <td>22983.33</td>\n",
       "      <td>3</td>\n",
       "    </tr>\n",
       "    <tr>\n",
       "      <th>12</th>\n",
       "      <td>MV AGUSTA</td>\n",
       "      <td>40000.00</td>\n",
       "      <td>1</td>\n",
       "    </tr>\n",
       "    <tr>\n",
       "      <th>13</th>\n",
       "      <td>PIAGGIO</td>\n",
       "      <td>17900.00</td>\n",
       "      <td>1</td>\n",
       "    </tr>\n",
       "    <tr>\n",
       "      <th>14</th>\n",
       "      <td>ROYAL ENFIELD</td>\n",
       "      <td>20596.67</td>\n",
       "      <td>3</td>\n",
       "    </tr>\n",
       "    <tr>\n",
       "      <th>15</th>\n",
       "      <td>SHINERAY</td>\n",
       "      <td>7900.00</td>\n",
       "      <td>1</td>\n",
       "    </tr>\n",
       "    <tr>\n",
       "      <th>16</th>\n",
       "      <td>SUZUKI</td>\n",
       "      <td>40975.00</td>\n",
       "      <td>22</td>\n",
       "    </tr>\n",
       "    <tr>\n",
       "      <th>17</th>\n",
       "      <td>TRIUMPH</td>\n",
       "      <td>54991.48</td>\n",
       "      <td>52</td>\n",
       "    </tr>\n",
       "    <tr>\n",
       "      <th>18</th>\n",
       "      <td>WAYY</td>\n",
       "      <td>17000.00</td>\n",
       "      <td>1</td>\n",
       "    </tr>\n",
       "    <tr>\n",
       "      <th>19</th>\n",
       "      <td>YAMAHA</td>\n",
       "      <td>24705.05</td>\n",
       "      <td>83</td>\n",
       "    </tr>\n",
       "  </tbody>\n",
       "</table>\n",
       "</div>"
      ],
      "text/plain": [
       "              Marca  Preço Médio  Quantidade\n",
       "0               BMW     68162.76          83\n",
       "1                BP     25000.00           1\n",
       "2            CAN-AM    164950.00           2\n",
       "3             DAFRA     18938.18          11\n",
       "4            DUCATI     80867.79          19\n",
       "5            HAOJUE     10517.80           5\n",
       "6   HARLEY-DAVIDSON     73152.42          66\n",
       "7             HONDA     31748.68         110\n",
       "8            INDIAN     79800.00           1\n",
       "9          KASINSKI     10900.00           1\n",
       "10         KAWASAKI     38596.71          38\n",
       "11            KYMCO     22983.33           3\n",
       "12        MV AGUSTA     40000.00           1\n",
       "13          PIAGGIO     17900.00           1\n",
       "14    ROYAL ENFIELD     20596.67           3\n",
       "15         SHINERAY      7900.00           1\n",
       "16           SUZUKI     40975.00          22\n",
       "17          TRIUMPH     54991.48          52\n",
       "18             WAYY     17000.00           1\n",
       "19           YAMAHA     24705.05          83"
      ]
     },
     "execution_count": 41,
     "metadata": {},
     "output_type": "execute_result"
    }
   ],
   "source": [
    "bikes_group_make_mean"
   ]
  },
  {
   "cell_type": "markdown",
   "id": "13406a61",
   "metadata": {},
   "source": [
    "## Preparando para exibição Gráfico com estes dados para exibição"
   ]
  },
  {
   "cell_type": "code",
   "execution_count": 42,
   "id": "ada72c18",
   "metadata": {},
   "outputs": [
    {
     "data": {
      "text/plain": [
       "<matplotlib.legend.Legend at 0x1d3eaf426e0>"
      ]
     },
     "execution_count": 42,
     "metadata": {},
     "output_type": "execute_result"
    },
    {
     "data": {
      "image/png": "[encoded data removed]",
      "text/plain": [
       "<Figure size 800x600 with 1 Axes>"
      ]
     },
     "metadata": {},
     "output_type": "display_data"
    }
   ],
   "source": [
    "# Gráfico Quantidade de motos de cada Marca\n",
    "\n",
    "# Extrai o resultado do agrupamento (Preço Médio + Modelo) para exibir no gráfico\n",
    "fig = plt.figure(figsize=(8,6))\n",
    "eixo = fig.add_axes([0, 0, 1, 1])\n",
    "\n",
    "# Adicionando os Índices das marcas\n",
    "indice = np.arange(len(bikes_group_make_mean))\n",
    "\n",
    "eixo.barh(indice, bikes_group_make_mean['Quantidade'].round(), align='center', height=0.8,  tick_label=bikes_group_make_mean['Marca'], color=[\"#d5224a\", '#f6a67e'])\n",
    "\n",
    "# Alterando Título e Labels\n",
    "eixo.set_title('Quantidade X Marca', fontsize=15, pad=20)\n",
    "eixo.set_xlabel('Quantidade')\n",
    "eixo.set_ylabel('Marca')\n",
    "\n",
    "eixo.set_yticks(indice)\n",
    "eixo.set_yticklabels(bikes_group_make_mean['Marca'], fontsize=7.8)\n",
    "\n",
    "# Adicionando Legenda\n",
    "eixo.legend(['Qtd Motos'], loc = 'lower right')"
   ]
  },
  {
   "cell_type": "markdown",
   "id": "c059c7eb",
   "metadata": {},
   "source": [
    "#### Preparando o agrupamento KM das motos"
   ]
  },
  {
   "cell_type": "code",
   "execution_count": 43,
   "id": "e4585c34",
   "metadata": {},
   "outputs": [],
   "source": [
    "bikes_group_mean_year = df_bikes.groupby(['YearModel'], as_index=False)"
   ]
  },
  {
   "cell_type": "code",
   "execution_count": 44,
   "id": "e922c676",
   "metadata": {},
   "outputs": [],
   "source": [
    "bikes_group_mean_year = bikes_group_mean_year.agg({'Odometer':np.mean, 'UniqueId': np.size}).round(2)"
   ]
  },
  {
   "cell_type": "code",
   "execution_count": 45,
   "id": "6f1ca550",
   "metadata": {},
   "outputs": [],
   "source": [
    "bikes_group_mean_year = bikes_group_mean_year.rename(columns={'YearModel':'Ano','Odometer':'Km', 'UniqueId': 'Quantidade'})"
   ]
  },
  {
   "cell_type": "code",
   "execution_count": 46,
   "id": "53fddf48",
   "metadata": {},
   "outputs": [],
   "source": [
    "bikes_group_mean_year = bikes_group_mean_year.sort_values('Ano', ascending=False)"
   ]
  },
  {
   "cell_type": "code",
   "execution_count": 47,
   "id": "875d4295",
   "metadata": {},
   "outputs": [
    {
     "data": {
      "text/html": [
       "<div>\n",
       "<style scoped>\n",
       "    .dataframe tbody tr th:only-of-type {\n",
       "        vertical-align: middle;\n",
       "    }\n",
       "\n",
       "    .dataframe tbody tr th {\n",
       "        vertical-align: top;\n",
       "    }\n",
       "\n",
       "    .dataframe thead th {\n",
       "        text-align: right;\n",
       "    }\n",
       "</style>\n",
       "<table border=\"1\" class=\"dataframe\">\n",
       "  <thead>\n",
       "    <tr style=\"text-align: right;\">\n",
       "      <th></th>\n",
       "      <th>Ano</th>\n",
       "      <th>Km</th>\n",
       "      <th>Quantidade</th>\n",
       "    </tr>\n",
       "  </thead>\n",
       "  <tbody>\n",
       "    <tr>\n",
       "      <th>28</th>\n",
       "      <td>2023</td>\n",
       "      <td>1400.70</td>\n",
       "      <td>10</td>\n",
       "    </tr>\n",
       "    <tr>\n",
       "      <th>27</th>\n",
       "      <td>2022</td>\n",
       "      <td>4483.08</td>\n",
       "      <td>62</td>\n",
       "    </tr>\n",
       "    <tr>\n",
       "      <th>26</th>\n",
       "      <td>2021</td>\n",
       "      <td>11110.59</td>\n",
       "      <td>56</td>\n",
       "    </tr>\n",
       "    <tr>\n",
       "      <th>25</th>\n",
       "      <td>2020</td>\n",
       "      <td>13056.07</td>\n",
       "      <td>76</td>\n",
       "    </tr>\n",
       "    <tr>\n",
       "      <th>24</th>\n",
       "      <td>2019</td>\n",
       "      <td>19801.16</td>\n",
       "      <td>51</td>\n",
       "    </tr>\n",
       "  </tbody>\n",
       "</table>\n",
       "</div>"
      ],
      "text/plain": [
       "     Ano        Km  Quantidade\n",
       "28  2023   1400.70          10\n",
       "27  2022   4483.08          62\n",
       "26  2021  11110.59          56\n",
       "25  2020  13056.07          76\n",
       "24  2019  19801.16          51"
      ]
     },
     "execution_count": 47,
     "metadata": {},
     "output_type": "execute_result"
    }
   ],
   "source": [
    "bikes_group_mean_year.head()"
   ]
  },
  {
   "cell_type": "markdown",
   "id": "26d39b83",
   "metadata": {},
   "source": [
    "#### Exibindo o Gráfico por KM das motos"
   ]
  },
  {
   "cell_type": "code",
   "execution_count": 48,
   "id": "23899bcf",
   "metadata": {},
   "outputs": [
    {
     "data": {
      "text/plain": [
       "<matplotlib.legend.Legend at 0x1d3eac52ef0>"
      ]
     },
     "execution_count": 48,
     "metadata": {},
     "output_type": "execute_result"
    },
    {
     "data": {
      "image/png": "[encoded data removed]",
      "text/plain": [
       "<Figure size 800x400 with 1 Axes>"
      ]
     },
     "metadata": {},
     "output_type": "display_data"
    }
   ],
   "source": [
    "fig = plt.figure(figsize=(8,4))\n",
    "eixo = fig.add_axes([0, 0, 1, 1])\n",
    "\n",
    "# Adicionando gráfico\n",
    "eixo.plot(bikes_group_mean_year['Ano'], bikes_group_mean_year['Km'], color= '#d5224a', lw=2, marker = 'o')\n",
    "\n",
    "# Exibe no gráfico somente as motos entre [2000 - Ano Atual]\n",
    "eixo.set_xlim(2000) # a partir de 2000\n",
    "\n",
    "# Adicionando cor de destaque para motos que ainda estão entre 10 anos \n",
    "bikes_10_years = now.year - bikes_group_mean_year['Ano']  < 10\n",
    "eixo.plot(bikes_group_mean_year[bikes_10_years]['Ano'], bikes_group_mean_year[bikes_10_years]['Km'], color= '#5c1e51', lw=2, marker = 'o')\n",
    "\n",
    "# Alterando Título e Labels\n",
    "eixo.set_title('Quilometragem x Ano Modelo', fontsize=15, pad=20)\n",
    "eixo.set_ylabel('Km')\n",
    "eixo.set_xlabel('Ano')\n",
    "\n",
    "# Adicionando Legenda\n",
    "eixo.legend(['Km Motos', 'Km Motos < 10 Anos'], loc = 'lower right')"
   ]
  },
  {
   "cell_type": "markdown",
   "id": "162e94f6",
   "metadata": {},
   "source": [
    "#### Preço Fipe (OK ou Não) das 10 Maiores Marcas "
   ]
  },
  {
   "cell_type": "code",
   "execution_count": 49,
   "id": "d4f5e97d",
   "metadata": {},
   "outputs": [
    {
     "name": "stderr",
     "output_type": "stream",
     "text": [
      "C:\\Users\\maicon.melara\\AppData\\Local\\Temp\\ipykernel_2912\\3999423188.py:5: FutureWarning: The default value of numeric_only in DataFrameGroupBy.sum is deprecated. In a future version, numeric_only will default to False. Either specify numeric_only or select only columns which should be valid for the function.\n",
      "  bikes_group_make_fipe = pd.get_dummies(df_bikes, columns=['PriceFipeOk']).groupby(['Make'], as_index=False).sum()\n"
     ]
    },
    {
     "data": {
      "text/html": [
       "<div>\n",
       "<style scoped>\n",
       "    .dataframe tbody tr th:only-of-type {\n",
       "        vertical-align: middle;\n",
       "    }\n",
       "\n",
       "    .dataframe tbody tr th {\n",
       "        vertical-align: top;\n",
       "    }\n",
       "\n",
       "    .dataframe thead th {\n",
       "        text-align: right;\n",
       "    }\n",
       "</style>\n",
       "<table border=\"1\" class=\"dataframe\">\n",
       "  <thead>\n",
       "    <tr style=\"text-align: right;\">\n",
       "      <th></th>\n",
       "      <th>Marca</th>\n",
       "      <th>Preço Fipe OK</th>\n",
       "      <th>Preço Fipe Não OK</th>\n",
       "    </tr>\n",
       "  </thead>\n",
       "  <tbody>\n",
       "    <tr>\n",
       "      <th>0</th>\n",
       "      <td>BMW</td>\n",
       "      <td>76</td>\n",
       "      <td>7</td>\n",
       "    </tr>\n",
       "    <tr>\n",
       "      <th>3</th>\n",
       "      <td>DAFRA</td>\n",
       "      <td>11</td>\n",
       "      <td>0</td>\n",
       "    </tr>\n",
       "    <tr>\n",
       "      <th>4</th>\n",
       "      <td>DUCATI</td>\n",
       "      <td>18</td>\n",
       "      <td>1</td>\n",
       "    </tr>\n",
       "    <tr>\n",
       "      <th>5</th>\n",
       "      <td>HAOJUE</td>\n",
       "      <td>5</td>\n",
       "      <td>0</td>\n",
       "    </tr>\n",
       "    <tr>\n",
       "      <th>6</th>\n",
       "      <td>HARLEY-DAVIDSON</td>\n",
       "      <td>57</td>\n",
       "      <td>9</td>\n",
       "    </tr>\n",
       "    <tr>\n",
       "      <th>7</th>\n",
       "      <td>HONDA</td>\n",
       "      <td>106</td>\n",
       "      <td>4</td>\n",
       "    </tr>\n",
       "    <tr>\n",
       "      <th>16</th>\n",
       "      <td>SUZUKI</td>\n",
       "      <td>18</td>\n",
       "      <td>4</td>\n",
       "    </tr>\n",
       "    <tr>\n",
       "      <th>17</th>\n",
       "      <td>TRIUMPH</td>\n",
       "      <td>43</td>\n",
       "      <td>9</td>\n",
       "    </tr>\n",
       "    <tr>\n",
       "      <th>19</th>\n",
       "      <td>YAMAHA</td>\n",
       "      <td>79</td>\n",
       "      <td>4</td>\n",
       "    </tr>\n",
       "  </tbody>\n",
       "</table>\n",
       "</div>"
      ],
      "text/plain": [
       "              Marca  Preço Fipe OK  Preço Fipe Não OK\n",
       "0               BMW             76                  7\n",
       "3             DAFRA             11                  0\n",
       "4            DUCATI             18                  1\n",
       "5            HAOJUE              5                  0\n",
       "6   HARLEY-DAVIDSON             57                  9\n",
       "7             HONDA            106                  4\n",
       "16           SUZUKI             18                  4\n",
       "17          TRIUMPH             43                  9\n",
       "19           YAMAHA             79                  4"
      ]
     },
     "execution_count": 49,
     "metadata": {},
     "output_type": "execute_result"
    }
   ],
   "source": [
    "# obs: Consideremos apenas as 10 maiores marcas de motos \n",
    "make_top_10 = ['HONDA','BMW','YAMAHA','HARLEY-DAVIDSON','TRIUMPH','KAWAZAKY','SUZUKI','DUCATI','DAFRA','HAOJUE']\n",
    "\n",
    "# Agrupa por marca e remove o index (Make)  \n",
    "bikes_group_make_fipe = pd.get_dummies(df_bikes, columns=['PriceFipeOk']).groupby(['Make'], as_index=False).sum()\n",
    "\n",
    "# Renomeando as colunas para apresentá-las \n",
    "bikes_group_make_fipe = bikes_group_make_fipe.rename(columns={'Make':'Marca', 'PriceFipeOk_True':'Preço Fipe OK', 'PriceFipeOk_False':'Preço Fipe Não OK'})\n",
    "\n",
    "# Exibe colunas:\n",
    "# Make: valor único (agrupado)\n",
    "# PriceFipeOk_True: quantidade de registros Preço Fipe OK\n",
    "# PriceFipeOk_False: quantidade de registros Preço Fipe Não OK\n",
    "bikes_group_make_fipe = bikes_group_make_fipe[['Marca', 'Preço Fipe OK', 'Preço Fipe Não OK']]\n",
    "\n",
    "# Pega apenas os registros que estão com o Preço Fipe OK (PriceFipeOk) e que estão entre as 10 maiores marcas de motos\n",
    "bikes_group_make_fipe = bikes_group_make_fipe[(bikes_group_make_fipe['Marca'].isin(make_top_10))]\n",
    "\n",
    "bikes_group_make_fipe"
   ]
  },
  {
   "cell_type": "markdown",
   "id": "45f22813",
   "metadata": {},
   "source": [
    "#### Exibindo o gráfico de Relação das Marcas e Preço Fipe OK e Fipe não OK"
   ]
  },
  {
   "cell_type": "code",
   "execution_count": 50,
   "id": "ef53e117",
   "metadata": {},
   "outputs": [
    {
     "data": {
      "text/plain": [
       "<matplotlib.legend.Legend at 0x1d3ea9bed40>"
      ]
     },
     "execution_count": 50,
     "metadata": {},
     "output_type": "execute_result"
    },
    {
     "data": {
      "image/png": "[encoded data removed]",
      "text/plain": [
       "<Figure size 800x400 with 1 Axes>"
      ]
     },
     "metadata": {},
     "output_type": "display_data"
    }
   ],
   "source": [
    "fig = plt.figure(figsize=(8,4))\n",
    "eixo = fig.add_axes([0, 0, 1, 1])\n",
    "\n",
    "# Adicionando os Índices das marcas\n",
    "indice = np.arange(len(bikes_group_make_fipe))\n",
    "\n",
    "width = 0.35  # tamanho das barras\n",
    "\n",
    "# Adicionando barras Preço <= Valor Fipe\n",
    "eixo.bar(indice - width/2, bikes_group_make_fipe['Preço Fipe OK'], width, color= '#5c1e51')\n",
    "\n",
    "# Adicionando barras Preço > Valor Fipe\n",
    "eixo.bar(indice + width/2, bikes_group_make_fipe['Preço Fipe Não OK'], width, color= '#d5224a')\n",
    "\n",
    "# Alterando Título e Labels\n",
    "eixo.set_title('Valor Venda x Valor Fipe - 10 Maiores Marcas', fontsize=15, pad=20)\n",
    "eixo.set_xlabel('Marcas')\n",
    "eixo.set_ylabel('Qtd Motos Preço Fipe')\n",
    "\n",
    "eixo.set_xticks(indice)\n",
    "eixo.set_xticklabels(bikes_group_make_fipe['Marca'], fontsize=9)\n",
    "\n",
    "# Adicionando Legenda\n",
    "eixo.legend(['Valor <= Fipe', 'Valor > Fipe'], loc = 'lower right')"
   ]
  },
  {
   "cell_type": "markdown",
   "id": "f5fbcbcd",
   "metadata": {},
   "source": [
    "#### Criando a análise valor Fipe OK e Fipe não OK em porcentagem"
   ]
  },
  {
   "cell_type": "code",
   "execution_count": 51,
   "id": "6a652172",
   "metadata": {},
   "outputs": [
    {
     "data": {
      "text/html": [
       "<div>\n",
       "<style scoped>\n",
       "    .dataframe tbody tr th:only-of-type {\n",
       "        vertical-align: middle;\n",
       "    }\n",
       "\n",
       "    .dataframe tbody tr th {\n",
       "        vertical-align: top;\n",
       "    }\n",
       "\n",
       "    .dataframe thead th {\n",
       "        text-align: right;\n",
       "    }\n",
       "</style>\n",
       "<table border=\"1\" class=\"dataframe\">\n",
       "  <thead>\n",
       "    <tr style=\"text-align: right;\">\n",
       "      <th></th>\n",
       "      <th>Preço Fipe OK</th>\n",
       "      <th>Quantidade</th>\n",
       "      <th>Porcentagem</th>\n",
       "    </tr>\n",
       "  </thead>\n",
       "  <tbody>\n",
       "    <tr>\n",
       "      <th>0</th>\n",
       "      <td>Valor &gt; Fipe</td>\n",
       "      <td>37</td>\n",
       "      <td>8.665105</td>\n",
       "    </tr>\n",
       "    <tr>\n",
       "      <th>1</th>\n",
       "      <td>Valor &lt;= Fipe</td>\n",
       "      <td>390</td>\n",
       "      <td>91.334895</td>\n",
       "    </tr>\n",
       "  </tbody>\n",
       "</table>\n",
       "</div>"
      ],
      "text/plain": [
       "   Preço Fipe OK  Quantidade  Porcentagem\n",
       "0   Valor > Fipe          37     8.665105\n",
       "1  Valor <= Fipe         390    91.334895"
      ]
     },
     "execution_count": 51,
     "metadata": {},
     "output_type": "execute_result"
    }
   ],
   "source": [
    "bikes_10_years = now.year - df_bikes['YearModel']  <= 10\n",
    "\n",
    "# Agrupa por PriceFipeOk e remove o index (PriceFipeOk)\n",
    "# somente para motos onde ano <= 10\n",
    "bikes_group_fipe_10_years = df_bikes[bikes_10_years].groupby(['PriceFipeOk'], as_index=False)\n",
    "\n",
    "# Exibe colunas:\n",
    "# PriceFipeOk: valor único (agrupado)\n",
    "# UniqueId: quantidade de registros \n",
    "bikes_group_fipe_10_years = bikes_group_fipe_10_years.agg({'UniqueId': np.size}).round(2)\n",
    "\n",
    "# Renomeando as colunas para apresentá-las\n",
    "bikes_group_fipe_10_years = bikes_group_fipe_10_years.rename(columns={'PriceFipeOk':'Preço Fipe OK', 'UniqueId': 'Quantidade'})\n",
    "\n",
    "\n",
    "# Alterando os valores das linhas da coluna Preço Fipe OK para o label text\n",
    "# obs: Isso facilitará no uso do gráfico logo abaixo\n",
    "bikes_group_fipe_10_years.loc[bikes_group_fipe_10_years['Preço Fipe OK'] == True, ['Preço Fipe OK']] = 'Valor <= Fipe'\n",
    "bikes_group_fipe_10_years.loc[bikes_group_fipe_10_years['Preço Fipe OK'] == False, ['Preço Fipe OK']] = 'Valor > Fipe'\n",
    "\n",
    "# Calculando a Porcentagem da coluna Quantidade \n",
    "# obs: Essa coluna será usada no gráfico abaixo\n",
    "bikes_group_fipe_10_years['Porcentagem'] = (bikes_group_fipe_10_years['Quantidade'] / bikes_group_fipe_10_years['Quantidade'].sum()) * 100\n",
    "\n",
    "# ordena o Dataframe para apresentar primeiro os valores Valor > Fipe e posteriormente Valor <= Fipe\n",
    "# obs: isso garantirá no gráfico esta ordem para utilização da configuração de cores\n",
    "bikes_group_fipe_10_years = bikes_group_fipe_10_years.sort_values(by=['Preço Fipe OK'], ascending=False)\n",
    "\n",
    "bikes_group_fipe_10_years"
   ]
  },
  {
   "cell_type": "code",
   "execution_count": 52,
   "id": "c7a8b9a5",
   "metadata": {},
   "outputs": [
    {
     "data": {
      "text/plain": [
       "23"
      ]
     },
     "execution_count": 52,
     "metadata": {},
     "output_type": "execute_result"
    }
   ],
   "source": [
    "df_bikes['OdometerRecommended'] = (df_bikes['Odometer'] / (now.year - df_bikes['YearModel']) < 8000)\n",
    "df_bikes\n",
    "\n",
    "# Relação da coluna GoodDeal com a coluna OdometerRecommended\n",
    "\n",
    "(df_bikes['OdometerRecommended'] & df_bikes['GoodDeal']).sum()\n"
   ]
  },
  {
   "cell_type": "markdown",
   "id": "fc9edf78",
   "metadata": {},
   "source": [
    "#### Exibindo o Gráfico de Agrupamento motos Preço Fipe OK e Porcentagem"
   ]
  },
  {
   "cell_type": "code",
   "execution_count": 53,
   "id": "6bf274c7",
   "metadata": {},
   "outputs": [
    {
     "data": {
      "text/plain": [
       "Text(0.5, 1.0, 'Porcentagem de Motos x Preço Fipe (até 10 anos)')"
      ]
     },
     "execution_count": 53,
     "metadata": {},
     "output_type": "execute_result"
    },
    {
     "data": {
      "image/png": "[encoded data removed]",
      "text/plain": [
       "<Figure size 800x400 with 1 Axes>"
      ]
     },
     "metadata": {},
     "output_type": "display_data"
    }
   ],
   "source": [
    "fig = plt.figure(figsize=(8,4))\n",
    "eixo = fig.add_axes([0, 0, 1, 1])\n",
    "\n",
    "eixo.pie(bikes_group_fipe_10_years['Porcentagem'], labels=bikes_group_fipe_10_years['Preço Fipe OK'], autopct='%.1f%%', colors=['#d5224a', '#5c1e51'], shadow=True)\n",
    "\n",
    "# Alterando Título e Labels\n",
    "eixo.set_title('Porcentagem de Motos x Preço Fipe (até 10 anos)', fontsize=15, pad=20)"
   ]
  },
  {
   "cell_type": "markdown",
   "id": "f92088ea",
   "metadata": {},
   "source": [
    "#### Adicionando coluna OdometerRecommended. Consideremos como uma moto com quilometragem recomendada se a média de quilometragem por ano for <= 8.000 km rodados."
   ]
  },
  {
   "cell_type": "code",
   "execution_count": 54,
   "id": "a21b1890",
   "metadata": {},
   "outputs": [
    {
     "data": {
      "text/html": [
       "<div>\n",
       "<style scoped>\n",
       "    .dataframe tbody tr th:only-of-type {\n",
       "        vertical-align: middle;\n",
       "    }\n",
       "\n",
       "    .dataframe tbody tr th {\n",
       "        vertical-align: top;\n",
       "    }\n",
       "\n",
       "    .dataframe thead th {\n",
       "        text-align: right;\n",
       "    }\n",
       "</style>\n",
       "<table border=\"1\" class=\"dataframe\">\n",
       "  <thead>\n",
       "    <tr style=\"text-align: right;\">\n",
       "      <th></th>\n",
       "      <th>UniqueId</th>\n",
       "      <th>Licensed</th>\n",
       "      <th>IPVApaid</th>\n",
       "      <th>Warranty</th>\n",
       "      <th>Make</th>\n",
       "      <th>Model</th>\n",
       "      <th>YearModel</th>\n",
       "      <th>Odometer</th>\n",
       "      <th>Color</th>\n",
       "      <th>OnlyOwner</th>\n",
       "      <th>Price</th>\n",
       "      <th>GoodDeal</th>\n",
       "      <th>Fipe</th>\n",
       "      <th>PriceFipeOk</th>\n",
       "      <th>Year&gt;10Years</th>\n",
       "      <th>OdometerRecommended</th>\n",
       "    </tr>\n",
       "  </thead>\n",
       "  <tbody>\n",
       "    <tr>\n",
       "      <th>0</th>\n",
       "      <td>1705741</td>\n",
       "      <td>True</td>\n",
       "      <td>True</td>\n",
       "      <td>True</td>\n",
       "      <td>HONDA</td>\n",
       "      <td>PCX</td>\n",
       "      <td>2019</td>\n",
       "      <td>13800.0</td>\n",
       "      <td>Prata</td>\n",
       "      <td>True</td>\n",
       "      <td>16800.0</td>\n",
       "      <td>False</td>\n",
       "      <td>16800.0</td>\n",
       "      <td>True</td>\n",
       "      <td>False</td>\n",
       "      <td>True</td>\n",
       "    </tr>\n",
       "    <tr>\n",
       "      <th>1</th>\n",
       "      <td>1463983</td>\n",
       "      <td>True</td>\n",
       "      <td>True</td>\n",
       "      <td>True</td>\n",
       "      <td>SUZUKI</td>\n",
       "      <td>GSX-R750</td>\n",
       "      <td>1997</td>\n",
       "      <td>24000.0</td>\n",
       "      <td>Azul</td>\n",
       "      <td>True</td>\n",
       "      <td>21000.0</td>\n",
       "      <td>False</td>\n",
       "      <td>21000.0</td>\n",
       "      <td>True</td>\n",
       "      <td>True</td>\n",
       "      <td>True</td>\n",
       "    </tr>\n",
       "    <tr>\n",
       "      <th>2</th>\n",
       "      <td>1705744</td>\n",
       "      <td>True</td>\n",
       "      <td>True</td>\n",
       "      <td>True</td>\n",
       "      <td>BMW</td>\n",
       "      <td>R 1250 GS TRIPLE BLACK</td>\n",
       "      <td>2022</td>\n",
       "      <td>8000.0</td>\n",
       "      <td>Preto</td>\n",
       "      <td>True</td>\n",
       "      <td>105900.0</td>\n",
       "      <td>False</td>\n",
       "      <td>105900.0</td>\n",
       "      <td>True</td>\n",
       "      <td>False</td>\n",
       "      <td>True</td>\n",
       "    </tr>\n",
       "    <tr>\n",
       "      <th>3</th>\n",
       "      <td>1790809</td>\n",
       "      <td>True</td>\n",
       "      <td>True</td>\n",
       "      <td>True</td>\n",
       "      <td>SUZUKI</td>\n",
       "      <td>V-STROM 1000 ABS</td>\n",
       "      <td>2018</td>\n",
       "      <td>16500.0</td>\n",
       "      <td>Cinza</td>\n",
       "      <td>True</td>\n",
       "      <td>52000.0</td>\n",
       "      <td>False</td>\n",
       "      <td>52000.0</td>\n",
       "      <td>True</td>\n",
       "      <td>False</td>\n",
       "      <td>True</td>\n",
       "    </tr>\n",
       "    <tr>\n",
       "      <th>4</th>\n",
       "      <td>1678884</td>\n",
       "      <td>True</td>\n",
       "      <td>True</td>\n",
       "      <td>True</td>\n",
       "      <td>BMW</td>\n",
       "      <td>G 310 GS</td>\n",
       "      <td>2021</td>\n",
       "      <td>1600.0</td>\n",
       "      <td>Preto</td>\n",
       "      <td>True</td>\n",
       "      <td>32500.0</td>\n",
       "      <td>False</td>\n",
       "      <td>32500.0</td>\n",
       "      <td>True</td>\n",
       "      <td>False</td>\n",
       "      <td>True</td>\n",
       "    </tr>\n",
       "    <tr>\n",
       "      <th>...</th>\n",
       "      <td>...</td>\n",
       "      <td>...</td>\n",
       "      <td>...</td>\n",
       "      <td>...</td>\n",
       "      <td>...</td>\n",
       "      <td>...</td>\n",
       "      <td>...</td>\n",
       "      <td>...</td>\n",
       "      <td>...</td>\n",
       "      <td>...</td>\n",
       "      <td>...</td>\n",
       "      <td>...</td>\n",
       "      <td>...</td>\n",
       "      <td>...</td>\n",
       "      <td>...</td>\n",
       "      <td>...</td>\n",
       "    </tr>\n",
       "    <tr>\n",
       "      <th>499</th>\n",
       "      <td>1805150</td>\n",
       "      <td>True</td>\n",
       "      <td>True</td>\n",
       "      <td>True</td>\n",
       "      <td>HONDA</td>\n",
       "      <td>ADV</td>\n",
       "      <td>2022</td>\n",
       "      <td>435.0</td>\n",
       "      <td>Branco</td>\n",
       "      <td>True</td>\n",
       "      <td>22499.0</td>\n",
       "      <td>False</td>\n",
       "      <td>37000.0</td>\n",
       "      <td>True</td>\n",
       "      <td>False</td>\n",
       "      <td>True</td>\n",
       "    </tr>\n",
       "    <tr>\n",
       "      <th>500</th>\n",
       "      <td>1751426</td>\n",
       "      <td>True</td>\n",
       "      <td>True</td>\n",
       "      <td>True</td>\n",
       "      <td>YAMAHA</td>\n",
       "      <td>MT-03 ABS</td>\n",
       "      <td>2021</td>\n",
       "      <td>20500.0</td>\n",
       "      <td>Azul</td>\n",
       "      <td>True</td>\n",
       "      <td>26500.0</td>\n",
       "      <td>False</td>\n",
       "      <td>22499.0</td>\n",
       "      <td>False</td>\n",
       "      <td>False</td>\n",
       "      <td>False</td>\n",
       "    </tr>\n",
       "    <tr>\n",
       "      <th>501</th>\n",
       "      <td>1585779</td>\n",
       "      <td>True</td>\n",
       "      <td>True</td>\n",
       "      <td>True</td>\n",
       "      <td>HARLEY-DAVIDSON</td>\n",
       "      <td>SOFTAIL FAT BOY</td>\n",
       "      <td>2017</td>\n",
       "      <td>12000.0</td>\n",
       "      <td>Vermelho</td>\n",
       "      <td>True</td>\n",
       "      <td>76000.0</td>\n",
       "      <td>False</td>\n",
       "      <td>26500.0</td>\n",
       "      <td>False</td>\n",
       "      <td>False</td>\n",
       "      <td>True</td>\n",
       "    </tr>\n",
       "    <tr>\n",
       "      <th>502</th>\n",
       "      <td>1760383</td>\n",
       "      <td>True</td>\n",
       "      <td>True</td>\n",
       "      <td>True</td>\n",
       "      <td>HONDA</td>\n",
       "      <td>SHADOW 750</td>\n",
       "      <td>2008</td>\n",
       "      <td>64439.0</td>\n",
       "      <td>Preto</td>\n",
       "      <td>True</td>\n",
       "      <td>33000.0</td>\n",
       "      <td>False</td>\n",
       "      <td>76000.0</td>\n",
       "      <td>True</td>\n",
       "      <td>True</td>\n",
       "      <td>True</td>\n",
       "    </tr>\n",
       "    <tr>\n",
       "      <th>503</th>\n",
       "      <td>1751432</td>\n",
       "      <td>True</td>\n",
       "      <td>True</td>\n",
       "      <td>True</td>\n",
       "      <td>BMW</td>\n",
       "      <td>F 800 GS</td>\n",
       "      <td>2016</td>\n",
       "      <td>28000.0</td>\n",
       "      <td>Branco</td>\n",
       "      <td>True</td>\n",
       "      <td>45500.0</td>\n",
       "      <td>False</td>\n",
       "      <td>33000.0</td>\n",
       "      <td>False</td>\n",
       "      <td>False</td>\n",
       "      <td>True</td>\n",
       "    </tr>\n",
       "  </tbody>\n",
       "</table>\n",
       "<p>504 rows × 16 columns</p>\n",
       "</div>"
      ],
      "text/plain": [
       "     UniqueId  Licensed  IPVApaid  Warranty             Make  \\\n",
       "0     1705741      True      True      True            HONDA   \n",
       "1     1463983      True      True      True           SUZUKI   \n",
       "2     1705744      True      True      True              BMW   \n",
       "3     1790809      True      True      True           SUZUKI   \n",
       "4     1678884      True      True      True              BMW   \n",
       "..        ...       ...       ...       ...              ...   \n",
       "499   1805150      True      True      True            HONDA   \n",
       "500   1751426      True      True      True           YAMAHA   \n",
       "501   1585779      True      True      True  HARLEY-DAVIDSON   \n",
       "502   1760383      True      True      True            HONDA   \n",
       "503   1751432      True      True      True              BMW   \n",
       "\n",
       "                      Model  YearModel  Odometer     Color OnlyOwner  \\\n",
       "0                       PCX       2019   13800.0     Prata      True   \n",
       "1                  GSX-R750       1997   24000.0      Azul      True   \n",
       "2    R 1250 GS TRIPLE BLACK       2022    8000.0     Preto      True   \n",
       "3          V-STROM 1000 ABS       2018   16500.0     Cinza      True   \n",
       "4                  G 310 GS       2021    1600.0     Preto      True   \n",
       "..                      ...        ...       ...       ...       ...   \n",
       "499                     ADV       2022     435.0    Branco      True   \n",
       "500               MT-03 ABS       2021   20500.0      Azul      True   \n",
       "501         SOFTAIL FAT BOY       2017   12000.0  Vermelho      True   \n",
       "502              SHADOW 750       2008   64439.0     Preto      True   \n",
       "503                F 800 GS       2016   28000.0    Branco      True   \n",
       "\n",
       "        Price GoodDeal      Fipe  PriceFipeOk  Year>10Years  \\\n",
       "0     16800.0    False   16800.0         True         False   \n",
       "1     21000.0    False   21000.0         True          True   \n",
       "2    105900.0    False  105900.0         True         False   \n",
       "3     52000.0    False   52000.0         True         False   \n",
       "4     32500.0    False   32500.0         True         False   \n",
       "..        ...      ...       ...          ...           ...   \n",
       "499   22499.0    False   37000.0         True         False   \n",
       "500   26500.0    False   22499.0        False         False   \n",
       "501   76000.0    False   26500.0        False         False   \n",
       "502   33000.0    False   76000.0         True          True   \n",
       "503   45500.0    False   33000.0        False         False   \n",
       "\n",
       "     OdometerRecommended  \n",
       "0                   True  \n",
       "1                   True  \n",
       "2                   True  \n",
       "3                   True  \n",
       "4                   True  \n",
       "..                   ...  \n",
       "499                 True  \n",
       "500                False  \n",
       "501                 True  \n",
       "502                 True  \n",
       "503                 True  \n",
       "\n",
       "[504 rows x 16 columns]"
      ]
     },
     "execution_count": 54,
     "metadata": {},
     "output_type": "execute_result"
    }
   ],
   "source": [
    "df_bikes['OdometerRecommended'] = (df_bikes['Odometer'] / (now.year - df_bikes['YearModel']) <= 8000)\n",
    "df_bikes"
   ]
  },
  {
   "cell_type": "markdown",
   "id": "cb2e0201",
   "metadata": {},
   "source": [
    "#### Relação da coluna GoodDeal com a coluna OdometerRecommended"
   ]
  },
  {
   "cell_type": "code",
   "execution_count": 55,
   "id": "b1676e63",
   "metadata": {},
   "outputs": [
    {
     "data": {
      "text/plain": [
       "23"
      ]
     },
     "execution_count": 55,
     "metadata": {},
     "output_type": "execute_result"
    }
   ],
   "source": [
    "(df_bikes['OdometerRecommended'] & df_bikes['GoodDeal']).sum()"
   ]
  },
  {
   "cell_type": "markdown",
   "id": "b401743c",
   "metadata": {},
   "source": [
    "#### Correlação dos Atributos - Matriz de Correlação"
   ]
  },
  {
   "cell_type": "code",
   "execution_count": 56,
   "id": "88c1f175",
   "metadata": {},
   "outputs": [],
   "source": [
    "# Fazendo uma cópia do dataframe original\n",
    "df_bikes_class = df_bikes.copy()\n",
    "\n",
    "# Deletando atributos que não serão utilizados\n",
    "del df_bikes_class['UniqueId']\n",
    "del df_bikes_class['Make']\n",
    "del df_bikes_class['Model']\n",
    "del df_bikes_class['Licensed']\n",
    "\n",
    "del df_bikes_class['Year>10Years']"
   ]
  },
  {
   "cell_type": "markdown",
   "id": "368a09c1",
   "metadata": {},
   "source": [
    "#### Convertendo o tipo dos atributos"
   ]
  },
  {
   "cell_type": "code",
   "execution_count": 57,
   "id": "958834c7",
   "metadata": {},
   "outputs": [],
   "source": [
    "df_bikes_class['OdometerRecommended'] = df_bikes_class['OdometerRecommended'].astype('int64')\n",
    "df_bikes_class['IPVApaid'] = df_bikes_class['IPVApaid'].astype('string')\n",
    "#df_bikes_class['Licensed'] = df_bikes_class['Licensed'].astype('int64')\n",
    "df_bikes_class['Warranty'] = df_bikes_class['Warranty'].astype('string')\n",
    "df_bikes_class['OnlyOwner'] = df_bikes_class['OnlyOwner'].astype('int64')\n",
    "df_bikes_class['PriceFipeOk'] = df_bikes_class['PriceFipeOk'].astype('int64')\n",
    "#df_bikes_class['Year>10Years'] = df_bikes_class['Year>10Years'].astype('int64')"
   ]
  },
  {
   "cell_type": "markdown",
   "id": "14afac02",
   "metadata": {},
   "source": [
    "#### Convertendo dados categóricos em numéricos"
   ]
  },
  {
   "cell_type": "code",
   "execution_count": 58,
   "id": "728b1f85",
   "metadata": {},
   "outputs": [],
   "source": [
    "#creating labelEncoder\n",
    "le = preprocessing.LabelEncoder()\n",
    "# Converting string labels into numbers.\n",
    "#df_bikes_class['Armored']=le.fit_transform(df_bikes_class['Armored'])\n",
    "df_bikes_class['Color']=le.fit_transform(df_bikes_class['Color'])"
   ]
  },
  {
   "cell_type": "markdown",
   "id": "abdde45c",
   "metadata": {},
   "source": [
    "#### Gráfico - Matriz de Correlação"
   ]
  },
  {
   "cell_type": "code",
   "execution_count": 59,
   "id": "47791ba8",
   "metadata": {},
   "outputs": [
    {
     "name": "stderr",
     "output_type": "stream",
     "text": [
      "C:\\Users\\maicon.melara\\AppData\\Local\\Temp\\ipykernel_2912\\3128891536.py:5: FutureWarning: The default value of numeric_only in DataFrame.corr is deprecated. In a future version, it will default to False. Select only valid columns or specify the value of numeric_only to silence this warning.\n",
      "  correlation_mat = df_small.corr(method='pearson')\n"
     ]
    },
    {
     "data": {
      "text/plain": [
       "Text(-27.277777777777786, 0.5, 'características do núcleo da célula')"
      ]
     },
     "execution_count": 59,
     "metadata": {},
     "output_type": "execute_result"
    },
    {
     "data": {
      "image/png": "[encoded data removed]",
      "text/plain": [
       "<Figure size 800x400 with 2 Axes>"
      ]
     },
     "metadata": {},
     "output_type": "display_data"
    }
   ],
   "source": [
    "df_small = df_bikes_class.copy()\n",
    "\n",
    "# O corr() método do Pandas DataFrame  é usado para calcular a matriz. \n",
    "# Por padrão, ele calcula o coeficiente de correlação de Pearson\n",
    "correlation_mat = df_small.corr(method='pearson')\n",
    "\n",
    "# Definindo as configurações do Gráfico\n",
    "fig = plt.figure(figsize=(8,4))\n",
    "eixo = fig.add_axes([0, 0, 1, 1])\n",
    "\n",
    "# Usando o método heatmap para traçar a Matriz\n",
    "# O parâmetro ' annot=True' exibe os valores do coeficiente de correlação em cada célula.\n",
    "sns.heatmap(correlation_mat, annot = True, linewidth=0.5)\n",
    "\n",
    "# Definindo titulo e labels do gráfico\n",
    "eixo.set_title('Matriz de Correlação dos atributos', fontsize=15, pad=20)\n",
    "eixo.set_xlabel (\"características do núcleo da célula\")\n",
    "eixo.set_ylabel (\"características do núcleo da célula\")"
   ]
  },
  {
   "cell_type": "markdown",
   "id": "e2c69f85",
   "metadata": {},
   "source": [
    "#### Classificando a matriz de correlação"
   ]
  },
  {
   "cell_type": "code",
   "execution_count": 60,
   "id": "a872f597",
   "metadata": {},
   "outputs": [
    {
     "name": "stderr",
     "output_type": "stream",
     "text": [
      "C:\\Users\\maicon.melara\\AppData\\Local\\Temp\\ipykernel_2912\\2835174702.py:1: FutureWarning: The default value of numeric_only in DataFrame.corr is deprecated. In a future version, it will default to False. Select only valid columns or specify the value of numeric_only to silence this warning.\n",
      "  correlation_mat = df_small.corr(method='pearson')\n"
     ]
    },
    {
     "data": {
      "text/plain": [
       "YearModel            YearModel              1.000000\n",
       "                     Odometer              -0.579785\n",
       "                     Color                 -0.078691\n",
       "                     OnlyOwner             -0.000948\n",
       "                     Price                  0.171954\n",
       "                     PriceFipeOk           -0.031820\n",
       "                     OdometerRecommended   -0.185936\n",
       "Odometer             YearModel             -0.579785\n",
       "                     Odometer               1.000000\n",
       "                     Color                  0.024684\n",
       "                     OnlyOwner             -0.004684\n",
       "                     Price                 -0.237256\n",
       "                     PriceFipeOk            0.006033\n",
       "                     OdometerRecommended   -0.248049\n",
       "Color                YearModel             -0.078691\n",
       "                     Odometer               0.024684\n",
       "                     Color                  1.000000\n",
       "                     OnlyOwner             -0.012643\n",
       "                     Price                  0.025911\n",
       "                     PriceFipeOk            0.013509\n",
       "                     OdometerRecommended    0.007773\n",
       "OnlyOwner            YearModel             -0.000948\n",
       "                     Odometer              -0.004684\n",
       "                     Color                 -0.012643\n",
       "                     OnlyOwner              1.000000\n",
       "                     Price                  0.037655\n",
       "                     PriceFipeOk           -0.013268\n",
       "                     OdometerRecommended   -0.018203\n",
       "Price                YearModel              0.171954\n",
       "                     Odometer              -0.237256\n",
       "                     Color                  0.025911\n",
       "                     OnlyOwner              0.037655\n",
       "                     Price                  1.000000\n",
       "                     PriceFipeOk           -0.094522\n",
       "                     OdometerRecommended    0.126555\n",
       "PriceFipeOk          YearModel             -0.031820\n",
       "                     Odometer               0.006033\n",
       "                     Color                  0.013509\n",
       "                     OnlyOwner             -0.013268\n",
       "                     Price                 -0.094522\n",
       "                     PriceFipeOk            1.000000\n",
       "                     OdometerRecommended    0.002963\n",
       "OdometerRecommended  YearModel             -0.185936\n",
       "                     Odometer              -0.248049\n",
       "                     Color                  0.007773\n",
       "                     OnlyOwner             -0.018203\n",
       "                     Price                  0.126555\n",
       "                     PriceFipeOk            0.002963\n",
       "                     OdometerRecommended    1.000000\n",
       "dtype: float64"
      ]
     },
     "execution_count": 60,
     "metadata": {},
     "output_type": "execute_result"
    }
   ],
   "source": [
    "correlation_mat = df_small.corr(method='pearson')\n",
    "\n",
    "corr_pairs = correlation_mat.unstack()\n",
    "\n",
    "corr_pairs"
   ]
  },
  {
   "cell_type": "code",
   "execution_count": 61,
   "id": "83cf5525",
   "metadata": {},
   "outputs": [
    {
     "name": "stdout",
     "output_type": "stream",
     "text": [
      "YearModel            Odometer              -0.579785\n",
      "Odometer             YearModel             -0.579785\n",
      "OdometerRecommended  Odometer              -0.248049\n",
      "Odometer             OdometerRecommended   -0.248049\n",
      "Price                Odometer              -0.237256\n",
      "Odometer             Price                 -0.237256\n",
      "OdometerRecommended  YearModel             -0.185936\n",
      "YearModel            OdometerRecommended   -0.185936\n",
      "PriceFipeOk          Price                 -0.094522\n",
      "Price                PriceFipeOk           -0.094522\n",
      "YearModel            Color                 -0.078691\n",
      "Color                YearModel             -0.078691\n",
      "PriceFipeOk          YearModel             -0.031820\n",
      "YearModel            PriceFipeOk           -0.031820\n",
      "OnlyOwner            OdometerRecommended   -0.018203\n",
      "OdometerRecommended  OnlyOwner             -0.018203\n",
      "PriceFipeOk          OnlyOwner             -0.013268\n",
      "OnlyOwner            PriceFipeOk           -0.013268\n",
      "Color                OnlyOwner             -0.012643\n",
      "OnlyOwner            Color                 -0.012643\n",
      "Odometer             OnlyOwner             -0.004684\n",
      "OnlyOwner            Odometer              -0.004684\n",
      "                     YearModel             -0.000948\n",
      "YearModel            OnlyOwner             -0.000948\n",
      "OdometerRecommended  PriceFipeOk            0.002963\n",
      "PriceFipeOk          OdometerRecommended    0.002963\n",
      "                     Odometer               0.006033\n",
      "Odometer             PriceFipeOk            0.006033\n",
      "Color                OdometerRecommended    0.007773\n",
      "OdometerRecommended  Color                  0.007773\n",
      "Color                PriceFipeOk            0.013509\n",
      "PriceFipeOk          Color                  0.013509\n",
      "Odometer             Color                  0.024684\n",
      "Color                Odometer               0.024684\n",
      "Price                Color                  0.025911\n",
      "Color                Price                  0.025911\n",
      "Price                OnlyOwner              0.037655\n",
      "OnlyOwner            Price                  0.037655\n",
      "Price                OdometerRecommended    0.126555\n",
      "OdometerRecommended  Price                  0.126555\n",
      "Price                YearModel              0.171954\n",
      "YearModel            Price                  0.171954\n",
      "                     YearModel              1.000000\n",
      "OnlyOwner            OnlyOwner              1.000000\n",
      "Price                Price                  1.000000\n",
      "Color                Color                  1.000000\n",
      "Odometer             Odometer               1.000000\n",
      "PriceFipeOk          PriceFipeOk            1.000000\n",
      "OdometerRecommended  OdometerRecommended    1.000000\n",
      "dtype: float64\n"
     ]
    }
   ],
   "source": [
    "sorted_pairs = corr_pairs.sort_values(kind=\"quicksort\")\n",
    "\n",
    "print(sorted_pairs)"
   ]
  },
  {
   "cell_type": "markdown",
   "id": "4fbf8254",
   "metadata": {},
   "source": [
    "## Criação de Modelos de Machine Learning"
   ]
  },
  {
   "cell_type": "markdown",
   "id": "83015756",
   "metadata": {},
   "source": [
    "#### Preparando os dados"
   ]
  },
  {
   "cell_type": "markdown",
   "id": "c9c867e0",
   "metadata": {},
   "source": [
    "#### Criando a coluna “Class” (1-Sim ou 2-Não), baseado no valor da coluna booleana GoodDeal"
   ]
  },
  {
   "cell_type": "code",
   "execution_count": 62,
   "id": "cd87dc5f",
   "metadata": {},
   "outputs": [
    {
     "name": "stdout",
     "output_type": "stream",
     "text": [
      "<class 'pandas.core.frame.DataFrame'>\n",
      "RangeIndex: 504 entries, 0 to 503\n",
      "Data columns (total 11 columns):\n",
      " #   Column               Non-Null Count  Dtype  \n",
      "---  ------               --------------  -----  \n",
      " 0   IPVApaid             504 non-null    string \n",
      " 1   Warranty             504 non-null    string \n",
      " 2   YearModel            504 non-null    int64  \n",
      " 3   Odometer             504 non-null    float64\n",
      " 4   Color                504 non-null    int32  \n",
      " 5   OnlyOwner            504 non-null    int64  \n",
      " 6   Price                504 non-null    float64\n",
      " 7   GoodDeal             504 non-null    object \n",
      " 8   Fipe                 504 non-null    object \n",
      " 9   PriceFipeOk          504 non-null    int64  \n",
      " 10  OdometerRecommended  504 non-null    int64  \n",
      "dtypes: float64(2), int32(1), int64(4), object(2), string(2)\n",
      "memory usage: 41.5+ KB\n"
     ]
    }
   ],
   "source": [
    "df_bikes_class.info()"
   ]
  },
  {
   "cell_type": "code",
   "execution_count": 63,
   "id": "a3e54c94",
   "metadata": {},
   "outputs": [],
   "source": [
    "df_bikes_class['IPVApaid'] = df_bikes_class['IPVApaid'].astype('bool')\n",
    "df_bikes_class['Warranty'] = df_bikes_class['Warranty'].astype('bool')"
   ]
  },
  {
   "cell_type": "code",
   "execution_count": 64,
   "id": "7344eae3",
   "metadata": {},
   "outputs": [],
   "source": [
    "df_bikes_class['Class'] = (df_bikes['GoodDeal']).astype('int64')"
   ]
  },
  {
   "cell_type": "markdown",
   "id": "3efcfd8f",
   "metadata": {},
   "source": [
    "#### Apagando a coluna GoodDeal da base df_bikes_class"
   ]
  },
  {
   "cell_type": "code",
   "execution_count": 65,
   "id": "5ad5e81b",
   "metadata": {},
   "outputs": [],
   "source": [
    "del df_bikes_class['GoodDeal']"
   ]
  },
  {
   "cell_type": "code",
   "execution_count": 66,
   "id": "c0508054",
   "metadata": {},
   "outputs": [
    {
     "data": {
      "text/plain": [
       "Class\n",
       "0    474\n",
       "1     30\n",
       "Name: PriceFipeOk, dtype: int64"
      ]
     },
     "execution_count": 66,
     "metadata": {},
     "output_type": "execute_result"
    }
   ],
   "source": [
    "df_bikes_class.groupby('Class')['PriceFipeOk'].count()"
   ]
  },
  {
   "cell_type": "markdown",
   "id": "4101c643",
   "metadata": {},
   "source": [
    "#### Definindo variáveis Class"
   ]
  },
  {
   "cell_type": "code",
   "execution_count": 67,
   "id": "a5bd50fc",
   "metadata": {},
   "outputs": [],
   "source": [
    "X = df_bikes_class.drop('Class', axis=1)\n",
    "y = df_bikes_class['Class']"
   ]
  },
  {
   "cell_type": "code",
   "execution_count": 68,
   "id": "2c975461",
   "metadata": {},
   "outputs": [],
   "source": [
    "train_X, test_X, train_y, test_y = train_test_split(X, y, train_size=0.70, test_size=0.30, stratify=y)"
   ]
  },
  {
   "cell_type": "code",
   "execution_count": 69,
   "id": "37971d15",
   "metadata": {},
   "outputs": [
    {
     "data": {
      "text/html": [
       "<style>#sk-container-id-1 {color: black;background-color: white;}#sk-container-id-1 pre{padding: 0;}#sk-container-id-1 div.sk-toggleable {background-color: white;}#sk-container-id-1 label.sk-toggleable__label {cursor: pointer;display: block;width: 100%;margin-bottom: 0;padding: 0.3em;box-sizing: border-box;text-align: center;}#sk-container-id-1 label.sk-toggleable__label-arrow:before {content: \"▸\";float: left;margin-right: 0.25em;color: #696969;}#sk-container-id-1 label.sk-toggleable__label-arrow:hover:before {color: black;}#sk-container-id-1 div.sk-estimator:hover label.sk-toggleable__label-arrow:before {color: black;}#sk-container-id-1 div.sk-toggleable__content {max-height: 0;max-width: 0;overflow: hidden;text-align: left;background-color: #f0f8ff;}#sk-container-id-1 div.sk-toggleable__content pre {margin: 0.2em;color: black;border-radius: 0.25em;background-color: #f0f8ff;}#sk-container-id-1 input.sk-toggleable__control:checked~div.sk-toggleable__content {max-height: 200px;max-width: 100%;overflow: auto;}#sk-container-id-1 input.sk-toggleable__control:checked~label.sk-toggleable__label-arrow:before {content: \"▾\";}#sk-container-id-1 div.sk-estimator input.sk-toggleable__control:checked~label.sk-toggleable__label {background-color: #d4ebff;}#sk-container-id-1 div.sk-label input.sk-toggleable__control:checked~label.sk-toggleable__label {background-color: #d4ebff;}#sk-container-id-1 input.sk-hidden--visually {border: 0;clip: rect(1px 1px 1px 1px);clip: rect(1px, 1px, 1px, 1px);height: 1px;margin: -1px;overflow: hidden;padding: 0;position: absolute;width: 1px;}#sk-container-id-1 div.sk-estimator {font-family: monospace;background-color: #f0f8ff;border: 1px dotted black;border-radius: 0.25em;box-sizing: border-box;margin-bottom: 0.5em;}#sk-container-id-1 div.sk-estimator:hover {background-color: #d4ebff;}#sk-container-id-1 div.sk-parallel-item::after {content: \"\";width: 100%;border-bottom: 1px solid gray;flex-grow: 1;}#sk-container-id-1 div.sk-label:hover label.sk-toggleable__label {background-color: #d4ebff;}#sk-container-id-1 div.sk-serial::before {content: \"\";position: absolute;border-left: 1px solid gray;box-sizing: border-box;top: 0;bottom: 0;left: 50%;z-index: 0;}#sk-container-id-1 div.sk-serial {display: flex;flex-direction: column;align-items: center;background-color: white;padding-right: 0.2em;padding-left: 0.2em;position: relative;}#sk-container-id-1 div.sk-item {position: relative;z-index: 1;}#sk-container-id-1 div.sk-parallel {display: flex;align-items: stretch;justify-content: center;background-color: white;position: relative;}#sk-container-id-1 div.sk-item::before, #sk-container-id-1 div.sk-parallel-item::before {content: \"\";position: absolute;border-left: 1px solid gray;box-sizing: border-box;top: 0;bottom: 0;left: 50%;z-index: -1;}#sk-container-id-1 div.sk-parallel-item {display: flex;flex-direction: column;z-index: 1;position: relative;background-color: white;}#sk-container-id-1 div.sk-parallel-item:first-child::after {align-self: flex-end;width: 50%;}#sk-container-id-1 div.sk-parallel-item:last-child::after {align-self: flex-start;width: 50%;}#sk-container-id-1 div.sk-parallel-item:only-child::after {width: 0;}#sk-container-id-1 div.sk-dashed-wrapped {border: 1px dashed gray;margin: 0 0.4em 0.5em 0.4em;box-sizing: border-box;padding-bottom: 0.4em;background-color: white;}#sk-container-id-1 div.sk-label label {font-family: monospace;font-weight: bold;display: inline-block;line-height: 1.2em;}#sk-container-id-1 div.sk-label-container {text-align: center;}#sk-container-id-1 div.sk-container {/* jupyter's `normalize.less` sets `[hidden] { display: none; }` but bootstrap.min.css set `[hidden] { display: none !important; }` so we also need the `!important` here to be able to override the default hidden behavior on the sphinx rendered scikit-learn.org. See: https://github.com/scikit-learn/scikit-learn/issues/21755 */display: inline-block !important;position: relative;}#sk-container-id-1 div.sk-text-repr-fallback {display: none;}</style><div id=\"sk-container-id-1\" class=\"sk-top-container\"><div class=\"sk-text-repr-fallback\"><pre>KNeighborsClassifier()</pre><b>In a Jupyter environment, please rerun this cell to show the HTML representation or trust the notebook. <br />On GitHub, the HTML representation is unable to render, please try loading this page with nbviewer.org.</b></div><div class=\"sk-container\" hidden><div class=\"sk-item\"><div class=\"sk-estimator sk-toggleable\"><input class=\"sk-toggleable__control sk-hidden--visually\" id=\"sk-estimator-id-1\" type=\"checkbox\" checked><label for=\"sk-estimator-id-1\" class=\"sk-toggleable__label sk-toggleable__label-arrow\">KNeighborsClassifier</label><div class=\"sk-toggleable__content\"><pre>KNeighborsClassifier()</pre></div></div></div></div></div>"
      ],
      "text/plain": [
       "KNeighborsClassifier()"
      ]
     },
     "execution_count": 69,
     "metadata": {},
     "output_type": "execute_result"
    }
   ],
   "source": [
    "knn = KNeighborsClassifier()\n",
    "knn.fit(train_X, train_y)"
   ]
  },
  {
   "cell_type": "markdown",
   "id": "4101dc7a",
   "metadata": {},
   "source": [
    "#### Acurácia - KNN"
   ]
  },
  {
   "cell_type": "code",
   "execution_count": 70,
   "id": "38b9dcc3",
   "metadata": {},
   "outputs": [
    {
     "data": {
      "text/plain": [
       "0.9403409090909091"
      ]
     },
     "execution_count": 70,
     "metadata": {},
     "output_type": "execute_result"
    }
   ],
   "source": [
    "knn.score(train_X, train_y)"
   ]
  },
  {
   "cell_type": "code",
   "execution_count": 71,
   "id": "4560fe21",
   "metadata": {},
   "outputs": [],
   "source": [
    "pred_knn = knn.predict(test_X)"
   ]
  },
  {
   "cell_type": "code",
   "execution_count": 72,
   "id": "e096092f",
   "metadata": {},
   "outputs": [
    {
     "data": {
      "text/plain": [
       "0.9210526315789473"
      ]
     },
     "execution_count": 72,
     "metadata": {},
     "output_type": "execute_result"
    }
   ],
   "source": [
    "accuracy_score(test_y, pred_knn)"
   ]
  },
  {
   "cell_type": "markdown",
   "id": "8b3b40ef",
   "metadata": {},
   "source": [
    "#### Gerando Matriz de Confusão - Modelo KNN"
   ]
  },
  {
   "cell_type": "code",
   "execution_count": 73,
   "id": "bbfb3576",
   "metadata": {},
   "outputs": [
    {
     "name": "stdout",
     "output_type": "stream",
     "text": [
      "Confusion Matrix:\n",
      "[[140   3]\n",
      " [  9   0]]\n",
      "Classification Report:\n",
      "              precision    recall  f1-score   support\n",
      "\n",
      "           0       0.94      0.98      0.96       143\n",
      "           1       0.00      0.00      0.00         9\n",
      "\n",
      "    accuracy                           0.92       152\n",
      "   macro avg       0.47      0.49      0.48       152\n",
      "weighted avg       0.88      0.92      0.90       152\n",
      "\n",
      "Accuracy: 0.9210526315789473\n"
     ]
    }
   ],
   "source": [
    "result = confusion_matrix(test_y, pred_knn)\n",
    "print(\"Confusion Matrix:\")\n",
    "print(result)\n",
    "result1 = classification_report(test_y, pred_knn)\n",
    "print(\"Classification Report:\",)\n",
    "print (result1)\n",
    "result2 = accuracy_score(test_y,pred_knn)\n",
    "print(\"Accuracy:\",result2)"
   ]
  },
  {
   "cell_type": "markdown",
   "id": "f60016d6",
   "metadata": {},
   "source": [
    "#### Gráfico - Modelo KNN"
   ]
  },
  {
   "cell_type": "code",
   "execution_count": 74,
   "id": "c4992e75",
   "metadata": {},
   "outputs": [
    {
     "name": "stderr",
     "output_type": "stream",
     "text": [
      "C:\\ProgramData\\anaconda3\\lib\\site-packages\\sklearn\\base.py:420: UserWarning: X does not have valid feature names, but KNeighborsClassifier was fitted with feature names\n",
      "  warnings.warn(\n"
     ]
    },
    {
     "data": {
      "image/png": "[encoded data removed]",
      "text/plain": [
       "<Figure size 800x550 with 2 Axes>"
      ]
     },
     "metadata": {},
     "output_type": "display_data"
    }
   ],
   "source": [
    "visualizer = ClassificationReport(knn, classes=['Won','Loss'])\n",
    "visualizer.fit(train_X, train_y) # adicionando o resultado do modelo no objeto visualizer\n",
    "visualizer.score(test_X, test_y) # adicionando resultados da base de teste\n",
    "g = visualizer.poof()"
   ]
  },
  {
   "cell_type": "markdown",
   "id": "2595cf99",
   "metadata": {},
   "source": [
    "#### Resumo da Matriz - Modelo KNN"
   ]
  },
  {
   "cell_type": "code",
   "execution_count": 75,
   "id": "8f5efa2e",
   "metadata": {},
   "outputs": [
    {
     "name": "stdout",
     "output_type": "stream",
     "text": [
      "Predito    0  1  All\n",
      "Real                \n",
      "0        140  3  143\n",
      "1          9  0    9\n",
      "All      149  3  152\n"
     ]
    }
   ],
   "source": [
    "print (pd.crosstab(test_y, pred_knn, rownames=['Real'], colnames=['Predito'], margins=True))"
   ]
  },
  {
   "cell_type": "code",
   "execution_count": 76,
   "id": "8431d86f",
   "metadata": {},
   "outputs": [
    {
     "data": {
      "text/html": [
       "<style>#sk-container-id-2 {color: black;background-color: white;}#sk-container-id-2 pre{padding: 0;}#sk-container-id-2 div.sk-toggleable {background-color: white;}#sk-container-id-2 label.sk-toggleable__label {cursor: pointer;display: block;width: 100%;margin-bottom: 0;padding: 0.3em;box-sizing: border-box;text-align: center;}#sk-container-id-2 label.sk-toggleable__label-arrow:before {content: \"▸\";float: left;margin-right: 0.25em;color: #696969;}#sk-container-id-2 label.sk-toggleable__label-arrow:hover:before {color: black;}#sk-container-id-2 div.sk-estimator:hover label.sk-toggleable__label-arrow:before {color: black;}#sk-container-id-2 div.sk-toggleable__content {max-height: 0;max-width: 0;overflow: hidden;text-align: left;background-color: #f0f8ff;}#sk-container-id-2 div.sk-toggleable__content pre {margin: 0.2em;color: black;border-radius: 0.25em;background-color: #f0f8ff;}#sk-container-id-2 input.sk-toggleable__control:checked~div.sk-toggleable__content {max-height: 200px;max-width: 100%;overflow: auto;}#sk-container-id-2 input.sk-toggleable__control:checked~label.sk-toggleable__label-arrow:before {content: \"▾\";}#sk-container-id-2 div.sk-estimator input.sk-toggleable__control:checked~label.sk-toggleable__label {background-color: #d4ebff;}#sk-container-id-2 div.sk-label input.sk-toggleable__control:checked~label.sk-toggleable__label {background-color: #d4ebff;}#sk-container-id-2 input.sk-hidden--visually {border: 0;clip: rect(1px 1px 1px 1px);clip: rect(1px, 1px, 1px, 1px);height: 1px;margin: -1px;overflow: hidden;padding: 0;position: absolute;width: 1px;}#sk-container-id-2 div.sk-estimator {font-family: monospace;background-color: #f0f8ff;border: 1px dotted black;border-radius: 0.25em;box-sizing: border-box;margin-bottom: 0.5em;}#sk-container-id-2 div.sk-estimator:hover {background-color: #d4ebff;}#sk-container-id-2 div.sk-parallel-item::after {content: \"\";width: 100%;border-bottom: 1px solid gray;flex-grow: 1;}#sk-container-id-2 div.sk-label:hover label.sk-toggleable__label {background-color: #d4ebff;}#sk-container-id-2 div.sk-serial::before {content: \"\";position: absolute;border-left: 1px solid gray;box-sizing: border-box;top: 0;bottom: 0;left: 50%;z-index: 0;}#sk-container-id-2 div.sk-serial {display: flex;flex-direction: column;align-items: center;background-color: white;padding-right: 0.2em;padding-left: 0.2em;position: relative;}#sk-container-id-2 div.sk-item {position: relative;z-index: 1;}#sk-container-id-2 div.sk-parallel {display: flex;align-items: stretch;justify-content: center;background-color: white;position: relative;}#sk-container-id-2 div.sk-item::before, #sk-container-id-2 div.sk-parallel-item::before {content: \"\";position: absolute;border-left: 1px solid gray;box-sizing: border-box;top: 0;bottom: 0;left: 50%;z-index: -1;}#sk-container-id-2 div.sk-parallel-item {display: flex;flex-direction: column;z-index: 1;position: relative;background-color: white;}#sk-container-id-2 div.sk-parallel-item:first-child::after {align-self: flex-end;width: 50%;}#sk-container-id-2 div.sk-parallel-item:last-child::after {align-self: flex-start;width: 50%;}#sk-container-id-2 div.sk-parallel-item:only-child::after {width: 0;}#sk-container-id-2 div.sk-dashed-wrapped {border: 1px dashed gray;margin: 0 0.4em 0.5em 0.4em;box-sizing: border-box;padding-bottom: 0.4em;background-color: white;}#sk-container-id-2 div.sk-label label {font-family: monospace;font-weight: bold;display: inline-block;line-height: 1.2em;}#sk-container-id-2 div.sk-label-container {text-align: center;}#sk-container-id-2 div.sk-container {/* jupyter's `normalize.less` sets `[hidden] { display: none; }` but bootstrap.min.css set `[hidden] { display: none !important; }` so we also need the `!important` here to be able to override the default hidden behavior on the sphinx rendered scikit-learn.org. See: https://github.com/scikit-learn/scikit-learn/issues/21755 */display: inline-block !important;position: relative;}#sk-container-id-2 div.sk-text-repr-fallback {display: none;}</style><div id=\"sk-container-id-2\" class=\"sk-top-container\"><div class=\"sk-text-repr-fallback\"><pre>RandomForestClassifier(n_estimators=50)</pre><b>In a Jupyter environment, please rerun this cell to show the HTML representation or trust the notebook. <br />On GitHub, the HTML representation is unable to render, please try loading this page with nbviewer.org.</b></div><div class=\"sk-container\" hidden><div class=\"sk-item\"><div class=\"sk-estimator sk-toggleable\"><input class=\"sk-toggleable__control sk-hidden--visually\" id=\"sk-estimator-id-2\" type=\"checkbox\" checked><label for=\"sk-estimator-id-2\" class=\"sk-toggleable__label sk-toggleable__label-arrow\">RandomForestClassifier</label><div class=\"sk-toggleable__content\"><pre>RandomForestClassifier(n_estimators=50)</pre></div></div></div></div></div>"
      ],
      "text/plain": [
       "RandomForestClassifier(n_estimators=50)"
      ]
     },
     "execution_count": 76,
     "metadata": {},
     "output_type": "execute_result"
    }
   ],
   "source": [
    "rfc = RandomForestClassifier(n_estimators=50)\n",
    "rfc.fit(train_X, train_y)"
   ]
  },
  {
   "cell_type": "markdown",
   "id": "63ec12bc",
   "metadata": {},
   "source": [
    "#### Acuácia - RandomForest"
   ]
  },
  {
   "cell_type": "code",
   "execution_count": 77,
   "id": "bbee413c",
   "metadata": {},
   "outputs": [
    {
     "data": {
      "text/plain": [
       "1.0"
      ]
     },
     "execution_count": 77,
     "metadata": {},
     "output_type": "execute_result"
    }
   ],
   "source": [
    "rfc.score(train_X, train_y)"
   ]
  },
  {
   "cell_type": "code",
   "execution_count": 78,
   "id": "a0773f8d",
   "metadata": {},
   "outputs": [],
   "source": [
    "pred_rfc = rfc.predict(test_X)"
   ]
  },
  {
   "cell_type": "markdown",
   "id": "8bc4a75d",
   "metadata": {},
   "source": [
    "#### Gerando Matriz de Confusão - Modelo RandomForest"
   ]
  },
  {
   "cell_type": "code",
   "execution_count": 79,
   "id": "21abd67d",
   "metadata": {},
   "outputs": [
    {
     "name": "stdout",
     "output_type": "stream",
     "text": [
      "Confusion Matrix:\n",
      "[[143   0]\n",
      " [  8   1]]\n",
      "Classification Report:\n",
      "              precision    recall  f1-score   support\n",
      "\n",
      "           0       0.95      1.00      0.97       143\n",
      "           1       1.00      0.11      0.20         9\n",
      "\n",
      "    accuracy                           0.95       152\n",
      "   macro avg       0.97      0.56      0.59       152\n",
      "weighted avg       0.95      0.95      0.93       152\n",
      "\n",
      "Accuracy: 0.9473684210526315\n"
     ]
    }
   ],
   "source": [
    "result = confusion_matrix(test_y, pred_rfc)\n",
    "print(\"Confusion Matrix:\")\n",
    "print(result)\n",
    "result1 = classification_report(test_y, pred_rfc)\n",
    "print(\"Classification Report:\",)\n",
    "print (result1)\n",
    "result2 = accuracy_score(test_y,pred_rfc)\n",
    "print(\"Accuracy:\",result2)"
   ]
  },
  {
   "cell_type": "markdown",
   "id": "77103af3",
   "metadata": {},
   "source": [
    "#### Gráfico - Modelo RandonForest"
   ]
  },
  {
   "cell_type": "code",
   "execution_count": 80,
   "id": "a37d0077",
   "metadata": {},
   "outputs": [
    {
     "name": "stderr",
     "output_type": "stream",
     "text": [
      "C:\\ProgramData\\anaconda3\\lib\\site-packages\\sklearn\\base.py:420: UserWarning: X does not have valid feature names, but RandomForestClassifier was fitted with feature names\n",
      "  warnings.warn(\n"
     ]
    },
    {
     "data": {
      "image/png": "[encoded data removed]",
      "text/plain": [
       "<Figure size 800x550 with 2 Axes>"
      ]
     },
     "metadata": {},
     "output_type": "display_data"
    }
   ],
   "source": [
    "visualizer = ClassificationReport(rfc, classes=['Won','Loss'])\n",
    "visualizer.fit(train_X, train_y) # adicionando o resultado do modelo no objeto visualizer\n",
    "visualizer.score(test_X, test_y) # adicionando resultados da base de teste\n",
    "g = visualizer.poof() "
   ]
  },
  {
   "cell_type": "markdown",
   "id": "50f09087",
   "metadata": {},
   "source": [
    "#### Resumo da Matriz - Modelo RandonForest"
   ]
  },
  {
   "cell_type": "code",
   "execution_count": 81,
   "id": "731476ea",
   "metadata": {},
   "outputs": [
    {
     "name": "stdout",
     "output_type": "stream",
     "text": [
      "Predito    0  1  All\n",
      "Real                \n",
      "0        143  0  143\n",
      "1          8  1    9\n",
      "All      151  1  152\n"
     ]
    }
   ],
   "source": [
    "print (pd.crosstab(test_y, pred_rfc, rownames=['Real'], colnames=['Predito'], margins=True))"
   ]
  },
  {
   "cell_type": "markdown",
   "id": "fbdb383d",
   "metadata": {},
   "source": [
    "## Gráfico de importância dos Atributos"
   ]
  },
  {
   "cell_type": "code",
   "execution_count": 82,
   "id": "adc7bafd",
   "metadata": {},
   "outputs": [
    {
     "data": {
      "text/plain": [
       "<matplotlib.legend.Legend at 0x1d3ed07e740>"
      ]
     },
     "execution_count": 82,
     "metadata": {},
     "output_type": "execute_result"
    },
    {
     "data": {
      "image/png": "[encoded data removed]",
      "text/plain": [
       "<Figure size 800x500 with 1 Axes>"
      ]
     },
     "metadata": {},
     "output_type": "display_data"
    }
   ],
   "source": [
    "fig = plt.figure(figsize=(8,5))\n",
    "eixo = fig.add_axes([0, 0, 1, 1])\n",
    "\n",
    "# Adicionando os Índices\n",
    "indice = np.arange(len(X.columns))\n",
    "\n",
    "eixo.barh(indice, rfc.feature_importances_, align='center', height=0.7,  tick_label=X.columns, color=[\"#d5224a\", '#f6a67e'])\n",
    "\n",
    "# Alterando Título e Labels\n",
    "eixo.set_title('Grau de Importância dos atributos', fontsize=15, pad=20)\n",
    "eixo.set_xlabel('Importância')\n",
    "eixo.set_ylabel('Atributo')\n",
    "\n",
    "eixo.set_yticks(indice)\n",
    "\n",
    "# Adicionando Legenda\n",
    "eixo.legend(['Grau de importância'], loc = 'lower right')"
   ]
  },
  {
   "cell_type": "markdown",
   "id": "676f9703",
   "metadata": {},
   "source": [
    "#### Gráfico - Curva ROC"
   ]
  },
  {
   "cell_type": "code",
   "execution_count": 83,
   "id": "7879ce68",
   "metadata": {},
   "outputs": [],
   "source": [
    "y_proba_rfc = rfc.predict_proba(test_X)[:,1]\n",
    "fpr_rfc, tpr_rfc, thresholds = roc_curve(test_y, y_proba_rfc)"
   ]
  },
  {
   "cell_type": "code",
   "execution_count": 84,
   "id": "61fd8aed",
   "metadata": {},
   "outputs": [],
   "source": [
    "y_proba_knn = knn.predict_proba(test_X)[:,1]\n",
    "fpr_knn, tpr_knn, thresholds = roc_curve(test_y, y_proba_knn)"
   ]
  },
  {
   "cell_type": "code",
   "execution_count": 85,
   "id": "0b503d3e",
   "metadata": {},
   "outputs": [
    {
     "data": {
      "text/plain": [
       "<matplotlib.legend.Legend at 0x1d3ec5e64a0>"
      ]
     },
     "execution_count": 85,
     "metadata": {},
     "output_type": "execute_result"
    },
    {
     "data": {
      "image/png": "[encoded data removed]",
      "text/plain": [
       "<Figure size 700x400 with 1 Axes>"
      ]
     },
     "metadata": {},
     "output_type": "display_data"
    }
   ],
   "source": [
    "fig = plt.figure(figsize=(7,4))\n",
    "eixo = fig.add_axes([0, 0, 1, 1])\n",
    "\n",
    "eixo.plot(fpr_rfc, tpr_rfc, label='RandomForestClassifier', color= '#d5224a')\n",
    "eixo.plot(fpr_knn, tpr_knn, label='KNeighborsClassifier', color= '#5c1e51')\n",
    "\n",
    "# Alterando Título e Labels\n",
    "eixo.set_xlabel('False positive rate')\n",
    "eixo.set_ylabel('True positive rate')\n",
    "eixo.set_title('Curva ROC')\n",
    "\n",
    "# Adicionando Legenda\n",
    "eixo.legend(loc='best')"
   ]
  },
  {
   "cell_type": "code",
   "execution_count": null,
   "id": "88d77883",
   "metadata": {},
   "outputs": [],
   "source": []
  }
 ],
 "metadata": {
  "kernelspec": {
   "display_name": "Python 3 (ipykernel)",
   "language": "python",
   "name": "python3"
  },
  "language_info": {
   "codemirror_mode": {
    "name": "ipython",
    "version": 3
   },
   "file_extension": ".py",
   "mimetype": "text/x-python",
   "name": "python",
   "nbconvert_exporter": "python",
   "pygments_lexer": "ipython3",
   "version": "3.10.9"
  }
 },
 "nbformat": 4,
 "nbformat_minor": 5
}
